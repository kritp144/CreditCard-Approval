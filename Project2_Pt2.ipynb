{
  "nbformat": 4,
  "nbformat_minor": 0,
  "metadata": {
    "colab": {
      "name": "Project2_Pt2.ipynb",
      "provenance": [],
      "toc_visible": true,
      "mount_file_id": "1KDIat09sPL2j0nJeVBSp2gr6_SftkqZI",
      "authorship_tag": "ABX9TyOdEmuqXkEQZBuAowTRtLiW",
      "include_colab_link": true
    },
    "kernelspec": {
      "name": "python3",
      "display_name": "Python 3"
    },
    "language_info": {
      "name": "python"
    }
  },
  "cells": [
    {
      "cell_type": "markdown",
      "metadata": {
        "id": "view-in-github",
        "colab_type": "text"
      },
      "source": [
        "<a href=\"https://colab.research.google.com/github/kritp144/CreditCard-Approval/blob/main/Project2_Pt2.ipynb\" target=\"_parent\"><img src=\"https://colab.research.google.com/assets/colab-badge.svg\" alt=\"Open In Colab\"/></a>"
      ]
    },
    {
      "cell_type": "markdown",
      "source": [
        "# PROJECT 2\n",
        "\n",
        "KRIT PATEL"
      ],
      "metadata": {
        "id": "3QhlgciJG40h"
      }
    },
    {
      "cell_type": "markdown",
      "source": [
        "# CREDIT CARD APPROVAL:\n",
        "\n",
        "The Task of this project is to create a prediction model that will determine whether or not a person gets approved for a credit card. The data was from Kaggle belonging to a UCI machine learning repository.\n",
        "\n",
        "Source: https://www.kaggle.com/datasets/samuelcortinhas/credit-card-approval-clean-data?select=clean_dataset.csv"
      ],
      "metadata": {
        "id": "yb8iTTZnHA3i"
      }
    },
    {
      "cell_type": "markdown",
      "source": [
        "# Importing Libraries and Loading the Data"
      ],
      "metadata": {
        "id": "sqOek_3jIXg6"
      }
    },
    {
      "cell_type": "code",
      "execution_count": null,
      "metadata": {
        "id": "Q26gGa0lGx2z"
      },
      "outputs": [],
      "source": [
        "# Import Libraries\n",
        "\n",
        "import pandas as pd\n",
        "import numpy as np\n",
        "import matplotlib.pyplot as plt\n",
        "\n",
        "from sklearn.preprocessing import StandardScaler, OneHotEncoder\n",
        "from sklearn.pipeline import make_pipeline\n",
        "from sklearn.compose import make_column_selector, make_column_transformer"
      ]
    },
    {
      "cell_type": "code",
      "source": [
        "# Loading the Data\n",
        "\n",
        "data = '/content/drive/MyDrive/DATA SCIENCE/Project 2 Datasets/creditcard.csv'\n",
        "\n",
        "df = pd.read_csv(data)\n",
        "\n",
        "df.head()"
      ],
      "metadata": {
        "colab": {
          "base_uri": "https://localhost:8080/",
          "height": 268
        },
        "id": "G_VyjRNZIl-H",
        "outputId": "f09bfeda-2d3f-4a21-9112-9ee76307319b"
      },
      "execution_count": null,
      "outputs": [
        {
          "output_type": "execute_result",
          "data": {
            "text/plain": [
              "   Gender    Age   Debt  Married  BankCustomer     Industry Ethnicity  \\\n",
              "0       1  30.83  0.000        1             1  Industrials     White   \n",
              "1       0  58.67  4.460        1             1    Materials     Black   \n",
              "2       0  24.50  0.500        1             1    Materials     Black   \n",
              "3       1  27.83  1.540        1             1  Industrials     White   \n",
              "4       1  20.17  5.625        1             1  Industrials     White   \n",
              "\n",
              "   YearsEmployed  PriorDefault  Employed  CreditScore  DriversLicense  \\\n",
              "0           1.25             1         1            1               0   \n",
              "1           3.04             1         1            6               0   \n",
              "2           1.50             1         0            0               0   \n",
              "3           3.75             1         1            5               1   \n",
              "4           1.71             1         0            0               0   \n",
              "\n",
              "        Citizen  ZipCode  Income  Approved  \n",
              "0       ByBirth      202       0         1  \n",
              "1       ByBirth       43     560         1  \n",
              "2       ByBirth      280     824         1  \n",
              "3       ByBirth      100       3         1  \n",
              "4  ByOtherMeans      120       0         1  "
            ],
            "text/html": [
              "\n",
              "  <div id=\"df-7924067a-0b96-43cb-96a7-4a4566568674\">\n",
              "    <div class=\"colab-df-container\">\n",
              "      <div>\n",
              "<style scoped>\n",
              "    .dataframe tbody tr th:only-of-type {\n",
              "        vertical-align: middle;\n",
              "    }\n",
              "\n",
              "    .dataframe tbody tr th {\n",
              "        vertical-align: top;\n",
              "    }\n",
              "\n",
              "    .dataframe thead th {\n",
              "        text-align: right;\n",
              "    }\n",
              "</style>\n",
              "<table border=\"1\" class=\"dataframe\">\n",
              "  <thead>\n",
              "    <tr style=\"text-align: right;\">\n",
              "      <th></th>\n",
              "      <th>Gender</th>\n",
              "      <th>Age</th>\n",
              "      <th>Debt</th>\n",
              "      <th>Married</th>\n",
              "      <th>BankCustomer</th>\n",
              "      <th>Industry</th>\n",
              "      <th>Ethnicity</th>\n",
              "      <th>YearsEmployed</th>\n",
              "      <th>PriorDefault</th>\n",
              "      <th>Employed</th>\n",
              "      <th>CreditScore</th>\n",
              "      <th>DriversLicense</th>\n",
              "      <th>Citizen</th>\n",
              "      <th>ZipCode</th>\n",
              "      <th>Income</th>\n",
              "      <th>Approved</th>\n",
              "    </tr>\n",
              "  </thead>\n",
              "  <tbody>\n",
              "    <tr>\n",
              "      <th>0</th>\n",
              "      <td>1</td>\n",
              "      <td>30.83</td>\n",
              "      <td>0.000</td>\n",
              "      <td>1</td>\n",
              "      <td>1</td>\n",
              "      <td>Industrials</td>\n",
              "      <td>White</td>\n",
              "      <td>1.25</td>\n",
              "      <td>1</td>\n",
              "      <td>1</td>\n",
              "      <td>1</td>\n",
              "      <td>0</td>\n",
              "      <td>ByBirth</td>\n",
              "      <td>202</td>\n",
              "      <td>0</td>\n",
              "      <td>1</td>\n",
              "    </tr>\n",
              "    <tr>\n",
              "      <th>1</th>\n",
              "      <td>0</td>\n",
              "      <td>58.67</td>\n",
              "      <td>4.460</td>\n",
              "      <td>1</td>\n",
              "      <td>1</td>\n",
              "      <td>Materials</td>\n",
              "      <td>Black</td>\n",
              "      <td>3.04</td>\n",
              "      <td>1</td>\n",
              "      <td>1</td>\n",
              "      <td>6</td>\n",
              "      <td>0</td>\n",
              "      <td>ByBirth</td>\n",
              "      <td>43</td>\n",
              "      <td>560</td>\n",
              "      <td>1</td>\n",
              "    </tr>\n",
              "    <tr>\n",
              "      <th>2</th>\n",
              "      <td>0</td>\n",
              "      <td>24.50</td>\n",
              "      <td>0.500</td>\n",
              "      <td>1</td>\n",
              "      <td>1</td>\n",
              "      <td>Materials</td>\n",
              "      <td>Black</td>\n",
              "      <td>1.50</td>\n",
              "      <td>1</td>\n",
              "      <td>0</td>\n",
              "      <td>0</td>\n",
              "      <td>0</td>\n",
              "      <td>ByBirth</td>\n",
              "      <td>280</td>\n",
              "      <td>824</td>\n",
              "      <td>1</td>\n",
              "    </tr>\n",
              "    <tr>\n",
              "      <th>3</th>\n",
              "      <td>1</td>\n",
              "      <td>27.83</td>\n",
              "      <td>1.540</td>\n",
              "      <td>1</td>\n",
              "      <td>1</td>\n",
              "      <td>Industrials</td>\n",
              "      <td>White</td>\n",
              "      <td>3.75</td>\n",
              "      <td>1</td>\n",
              "      <td>1</td>\n",
              "      <td>5</td>\n",
              "      <td>1</td>\n",
              "      <td>ByBirth</td>\n",
              "      <td>100</td>\n",
              "      <td>3</td>\n",
              "      <td>1</td>\n",
              "    </tr>\n",
              "    <tr>\n",
              "      <th>4</th>\n",
              "      <td>1</td>\n",
              "      <td>20.17</td>\n",
              "      <td>5.625</td>\n",
              "      <td>1</td>\n",
              "      <td>1</td>\n",
              "      <td>Industrials</td>\n",
              "      <td>White</td>\n",
              "      <td>1.71</td>\n",
              "      <td>1</td>\n",
              "      <td>0</td>\n",
              "      <td>0</td>\n",
              "      <td>0</td>\n",
              "      <td>ByOtherMeans</td>\n",
              "      <td>120</td>\n",
              "      <td>0</td>\n",
              "      <td>1</td>\n",
              "    </tr>\n",
              "  </tbody>\n",
              "</table>\n",
              "</div>\n",
              "      <button class=\"colab-df-convert\" onclick=\"convertToInteractive('df-7924067a-0b96-43cb-96a7-4a4566568674')\"\n",
              "              title=\"Convert this dataframe to an interactive table.\"\n",
              "              style=\"display:none;\">\n",
              "        \n",
              "  <svg xmlns=\"http://www.w3.org/2000/svg\" height=\"24px\"viewBox=\"0 0 24 24\"\n",
              "       width=\"24px\">\n",
              "    <path d=\"M0 0h24v24H0V0z\" fill=\"none\"/>\n",
              "    <path d=\"M18.56 5.44l.94 2.06.94-2.06 2.06-.94-2.06-.94-.94-2.06-.94 2.06-2.06.94zm-11 1L8.5 8.5l.94-2.06 2.06-.94-2.06-.94L8.5 2.5l-.94 2.06-2.06.94zm10 10l.94 2.06.94-2.06 2.06-.94-2.06-.94-.94-2.06-.94 2.06-2.06.94z\"/><path d=\"M17.41 7.96l-1.37-1.37c-.4-.4-.92-.59-1.43-.59-.52 0-1.04.2-1.43.59L10.3 9.45l-7.72 7.72c-.78.78-.78 2.05 0 2.83L4 21.41c.39.39.9.59 1.41.59.51 0 1.02-.2 1.41-.59l7.78-7.78 2.81-2.81c.8-.78.8-2.07 0-2.86zM5.41 20L4 18.59l7.72-7.72 1.47 1.35L5.41 20z\"/>\n",
              "  </svg>\n",
              "      </button>\n",
              "      \n",
              "  <style>\n",
              "    .colab-df-container {\n",
              "      display:flex;\n",
              "      flex-wrap:wrap;\n",
              "      gap: 12px;\n",
              "    }\n",
              "\n",
              "    .colab-df-convert {\n",
              "      background-color: #E8F0FE;\n",
              "      border: none;\n",
              "      border-radius: 50%;\n",
              "      cursor: pointer;\n",
              "      display: none;\n",
              "      fill: #1967D2;\n",
              "      height: 32px;\n",
              "      padding: 0 0 0 0;\n",
              "      width: 32px;\n",
              "    }\n",
              "\n",
              "    .colab-df-convert:hover {\n",
              "      background-color: #E2EBFA;\n",
              "      box-shadow: 0px 1px 2px rgba(60, 64, 67, 0.3), 0px 1px 3px 1px rgba(60, 64, 67, 0.15);\n",
              "      fill: #174EA6;\n",
              "    }\n",
              "\n",
              "    [theme=dark] .colab-df-convert {\n",
              "      background-color: #3B4455;\n",
              "      fill: #D2E3FC;\n",
              "    }\n",
              "\n",
              "    [theme=dark] .colab-df-convert:hover {\n",
              "      background-color: #434B5C;\n",
              "      box-shadow: 0px 1px 3px 1px rgba(0, 0, 0, 0.15);\n",
              "      filter: drop-shadow(0px 1px 2px rgba(0, 0, 0, 0.3));\n",
              "      fill: #FFFFFF;\n",
              "    }\n",
              "  </style>\n",
              "\n",
              "      <script>\n",
              "        const buttonEl =\n",
              "          document.querySelector('#df-7924067a-0b96-43cb-96a7-4a4566568674 button.colab-df-convert');\n",
              "        buttonEl.style.display =\n",
              "          google.colab.kernel.accessAllowed ? 'block' : 'none';\n",
              "\n",
              "        async function convertToInteractive(key) {\n",
              "          const element = document.querySelector('#df-7924067a-0b96-43cb-96a7-4a4566568674');\n",
              "          const dataTable =\n",
              "            await google.colab.kernel.invokeFunction('convertToInteractive',\n",
              "                                                     [key], {});\n",
              "          if (!dataTable) return;\n",
              "\n",
              "          const docLinkHtml = 'Like what you see? Visit the ' +\n",
              "            '<a target=\"_blank\" href=https://colab.research.google.com/notebooks/data_table.ipynb>data table notebook</a>'\n",
              "            + ' to learn more about interactive tables.';\n",
              "          element.innerHTML = '';\n",
              "          dataTable['output_type'] = 'display_data';\n",
              "          await google.colab.output.renderOutput(dataTable, element);\n",
              "          const docLink = document.createElement('div');\n",
              "          docLink.innerHTML = docLinkHtml;\n",
              "          element.appendChild(docLink);\n",
              "        }\n",
              "      </script>\n",
              "    </div>\n",
              "  </div>\n",
              "  "
            ]
          },
          "metadata": {},
          "execution_count": 39
        }
      ]
    },
    {
      "cell_type": "markdown",
      "source": [
        "# Pre Cleaning Data Analysis"
      ],
      "metadata": {
        "id": "flXc1h0EJsag"
      }
    },
    {
      "cell_type": "code",
      "source": [
        "# Check the Size of the Data\n",
        "\n",
        "print('Rows, Columns')\n",
        "df.shape "
      ],
      "metadata": {
        "colab": {
          "base_uri": "https://localhost:8080/"
        },
        "id": "J66IxJpgJ3a4",
        "outputId": "b62e5a24-bbe9-408f-fca5-c2f19169088b"
      },
      "execution_count": null,
      "outputs": [
        {
          "output_type": "stream",
          "name": "stdout",
          "text": [
            "Rows, Columns\n"
          ]
        },
        {
          "output_type": "execute_result",
          "data": {
            "text/plain": [
              "(690, 16)"
            ]
          },
          "metadata": {},
          "execution_count": 40
        }
      ]
    },
    {
      "cell_type": "code",
      "source": [
        "# Check for Duplicates\n",
        "\n",
        "print('Duplicated Values:')\n",
        "df.duplicated().sum()"
      ],
      "metadata": {
        "colab": {
          "base_uri": "https://localhost:8080/"
        },
        "id": "eBW0FYQZKnFk",
        "outputId": "90f9ee7c-8a63-4e4f-9a79-8333b834f72f"
      },
      "execution_count": null,
      "outputs": [
        {
          "output_type": "stream",
          "name": "stdout",
          "text": [
            "Duplicated Values:\n"
          ]
        },
        {
          "output_type": "execute_result",
          "data": {
            "text/plain": [
              "0"
            ]
          },
          "metadata": {},
          "execution_count": 41
        }
      ]
    },
    {
      "cell_type": "code",
      "source": [
        "# Check the Data types and missing values of each column\n",
        "\n",
        "df.info()"
      ],
      "metadata": {
        "colab": {
          "base_uri": "https://localhost:8080/"
        },
        "id": "xUYjYOChKJpM",
        "outputId": "9924ba0c-6ed5-48ad-8c6b-e1b95936d167"
      },
      "execution_count": null,
      "outputs": [
        {
          "output_type": "stream",
          "name": "stdout",
          "text": [
            "<class 'pandas.core.frame.DataFrame'>\n",
            "RangeIndex: 690 entries, 0 to 689\n",
            "Data columns (total 16 columns):\n",
            " #   Column          Non-Null Count  Dtype  \n",
            "---  ------          --------------  -----  \n",
            " 0   Gender          690 non-null    int64  \n",
            " 1   Age             690 non-null    float64\n",
            " 2   Debt            690 non-null    float64\n",
            " 3   Married         690 non-null    int64  \n",
            " 4   BankCustomer    690 non-null    int64  \n",
            " 5   Industry        690 non-null    object \n",
            " 6   Ethnicity       690 non-null    object \n",
            " 7   YearsEmployed   690 non-null    float64\n",
            " 8   PriorDefault    690 non-null    int64  \n",
            " 9   Employed        690 non-null    int64  \n",
            " 10  CreditScore     690 non-null    int64  \n",
            " 11  DriversLicense  690 non-null    int64  \n",
            " 12  Citizen         690 non-null    object \n",
            " 13  ZipCode         690 non-null    int64  \n",
            " 14  Income          690 non-null    int64  \n",
            " 15  Approved        690 non-null    int64  \n",
            "dtypes: float64(3), int64(10), object(3)\n",
            "memory usage: 86.4+ KB\n"
          ]
        }
      ]
    },
    {
      "cell_type": "code",
      "source": [
        "# Check for min and max values in numerical data\n",
        "\n",
        "# Check for min and max age \n",
        "print('Min Age:', df['Age'].min())\n",
        "print('Max Age:', df['Age'].max())\n",
        "\n",
        "# Check for min and max years employed\n",
        "print('Min Years of Employment:', df['YearsEmployed'].min())\n",
        "print('Max Years of Employment:', df['YearsEmployed'].max())\n",
        "\n",
        "# Check for min and max years employed\n",
        "print('Min Debt:', df['Debt'].min())\n",
        "print('Max Debt:', df['Debt'].max())\n",
        "\n",
        "# Check for min and max years employed\n",
        "print('Min Credit Score:', df['CreditScore'].min())\n",
        "print('Max Credit Score:', df['CreditScore'].max())"
      ],
      "metadata": {
        "colab": {
          "base_uri": "https://localhost:8080/"
        },
        "id": "vONEeZWBLmP5",
        "outputId": "88934317-449a-47c6-ed00-122d3dc0eab0"
      },
      "execution_count": null,
      "outputs": [
        {
          "output_type": "stream",
          "name": "stdout",
          "text": [
            "Min Age: 13.75\n",
            "Max Age: 80.25\n",
            "Min Years of Employment: 0.0\n",
            "Max Years of Employment: 28.5\n",
            "Min Debt: 0.0\n",
            "Max Debt: 28.0\n",
            "Min Credit Score: 0\n",
            "Max Credit Score: 67\n"
          ]
        }
      ]
    },
    {
      "cell_type": "code",
      "source": [
        "# Check for Categories in each Categorical columns\n",
        "\n",
        "# Gender\n",
        "print('Gender:')\n",
        "print(df['Gender'].value_counts())\n",
        "\n",
        "# Married\n",
        "print('Married:')\n",
        "print(df['Married'].value_counts())\n",
        "\n",
        "# Bank Customer\n",
        "print('Bank Customer:')\n",
        "print(df['BankCustomer'].value_counts())\n",
        "\n",
        "# Industy\n",
        "print('Industry:')\n",
        "print(df['Industry'].value_counts())\n",
        "\n",
        "# Ethnicity\n",
        "print('Ethnicity:')\n",
        "print(df['Ethnicity'].value_counts())\n",
        "\n",
        "# Prior Default\n",
        "print('Prior Default:')\n",
        "print(df['PriorDefault'].value_counts())\n",
        "\n",
        "# Employed\n",
        "print('Employed:')\n",
        "print(df['Employed'].value_counts())\n",
        "\n",
        "# Credit Score\n",
        "print('Credit Score:')\n",
        "print(df['CreditScore'].value_counts())\n",
        "\n",
        "# Drivers License\n",
        "print('Drivers License:')\n",
        "print(df['DriversLicense'].value_counts())\n",
        "\n",
        "# Citizen\n",
        "print('Citizen:')\n",
        "print(df['Citizen'].value_counts())\n",
        "\n",
        "# Approved\n",
        "print('Approved:')\n",
        "print(df['Approved'].value_counts()) "
      ],
      "metadata": {
        "colab": {
          "base_uri": "https://localhost:8080/"
        },
        "id": "yA2RTBu8KWc8",
        "outputId": "4ddff1b0-e652-41c2-ea3b-4ea72f346e9f"
      },
      "execution_count": null,
      "outputs": [
        {
          "output_type": "stream",
          "name": "stdout",
          "text": [
            "Gender:\n",
            "1    480\n",
            "0    210\n",
            "Name: Gender, dtype: int64\n",
            "Married:\n",
            "1    525\n",
            "0    165\n",
            "Name: Married, dtype: int64\n",
            "Bank Customer:\n",
            "1    527\n",
            "0    163\n",
            "Name: BankCustomer, dtype: int64\n",
            "Industry:\n",
            "Energy                   146\n",
            "Materials                 78\n",
            "Industrials               64\n",
            "ConsumerDiscretionary     59\n",
            "ConsumerStaples           54\n",
            "Healthcare                53\n",
            "Financials                51\n",
            "InformationTechnology     41\n",
            "CommunicationServices     38\n",
            "Utilities                 38\n",
            "Real Estate               30\n",
            "Education                 25\n",
            "Research                  10\n",
            "Transport                  3\n",
            "Name: Industry, dtype: int64\n",
            "Ethnicity:\n",
            "White     408\n",
            "Black     138\n",
            "Asian      59\n",
            "Latino     57\n",
            "Other      28\n",
            "Name: Ethnicity, dtype: int64\n",
            "Prior Default:\n",
            "1    361\n",
            "0    329\n",
            "Name: PriorDefault, dtype: int64\n",
            "Employed:\n",
            "0    395\n",
            "1    295\n",
            "Name: Employed, dtype: int64\n",
            "Credit Score:\n",
            "0     395\n",
            "1      71\n",
            "2      45\n",
            "3      28\n",
            "6      23\n",
            "11     19\n",
            "5      18\n",
            "7      16\n",
            "4      15\n",
            "9      10\n",
            "8      10\n",
            "10      8\n",
            "14      8\n",
            "12      8\n",
            "15      4\n",
            "16      3\n",
            "20      2\n",
            "17      2\n",
            "23      1\n",
            "40      1\n",
            "67      1\n",
            "13      1\n",
            "19      1\n",
            "Name: CreditScore, dtype: int64\n",
            "Drivers License:\n",
            "0    374\n",
            "1    316\n",
            "Name: DriversLicense, dtype: int64\n",
            "Citizen:\n",
            "ByBirth         625\n",
            "ByOtherMeans     57\n",
            "Temporary         8\n",
            "Name: Citizen, dtype: int64\n",
            "Approved:\n",
            "0    383\n",
            "1    307\n",
            "Name: Approved, dtype: int64\n"
          ]
        }
      ]
    },
    {
      "cell_type": "markdown",
      "source": [
        "# DATA CLEANING \n",
        "\n",
        "There are no duplicated values, missing values or inconsistencies.\n",
        "\n",
        "All Ordinal values have already been Ordinally Encoded.\n",
        "\n",
        "Categorical Values in 'Ethnicity' and 'Citizen' column needs to be OneHotEncoded.\n",
        "\n",
        "Numerical Values will all be scaled using a StandardScaler.\n",
        "\n",
        "'Industry' and 'ZipCode' columns needs to be dropped as it isn't important to predict whether or not someone should get approved for a credit card based on the Industry they work in. Same applies to the Zip Code."
      ],
      "metadata": {
        "id": "uogSGfzUVTU7"
      }
    },
    {
      "cell_type": "code",
      "source": [
        "# Define the Features as X and the Target as y\n",
        "\n",
        "X = df.drop(columns= ['Industry', 'ZipCode', 'Approved'])\n",
        "y = df['Approved'] "
      ],
      "metadata": {
        "id": "vP04YXxGbngC"
      },
      "execution_count": null,
      "outputs": []
    },
    {
      "cell_type": "code",
      "source": [
        "X.head() "
      ],
      "metadata": {
        "colab": {
          "base_uri": "https://localhost:8080/",
          "height": 268
        },
        "id": "VrR_iYkrbfJg",
        "outputId": "722b8886-de06-4fa6-bc99-86dcab4c59ea"
      },
      "execution_count": null,
      "outputs": [
        {
          "output_type": "execute_result",
          "data": {
            "text/plain": [
              "   Gender    Age   Debt  Married  BankCustomer Ethnicity  YearsEmployed  \\\n",
              "0       1  30.83  0.000        1             1     White           1.25   \n",
              "1       0  58.67  4.460        1             1     Black           3.04   \n",
              "2       0  24.50  0.500        1             1     Black           1.50   \n",
              "3       1  27.83  1.540        1             1     White           3.75   \n",
              "4       1  20.17  5.625        1             1     White           1.71   \n",
              "\n",
              "   PriorDefault  Employed  CreditScore  DriversLicense       Citizen  Income  \n",
              "0             1         1            1               0       ByBirth       0  \n",
              "1             1         1            6               0       ByBirth     560  \n",
              "2             1         0            0               0       ByBirth     824  \n",
              "3             1         1            5               1       ByBirth       3  \n",
              "4             1         0            0               0  ByOtherMeans       0  "
            ],
            "text/html": [
              "\n",
              "  <div id=\"df-bfa8f808-8e7e-466e-a6d7-b8c0fadc214c\">\n",
              "    <div class=\"colab-df-container\">\n",
              "      <div>\n",
              "<style scoped>\n",
              "    .dataframe tbody tr th:only-of-type {\n",
              "        vertical-align: middle;\n",
              "    }\n",
              "\n",
              "    .dataframe tbody tr th {\n",
              "        vertical-align: top;\n",
              "    }\n",
              "\n",
              "    .dataframe thead th {\n",
              "        text-align: right;\n",
              "    }\n",
              "</style>\n",
              "<table border=\"1\" class=\"dataframe\">\n",
              "  <thead>\n",
              "    <tr style=\"text-align: right;\">\n",
              "      <th></th>\n",
              "      <th>Gender</th>\n",
              "      <th>Age</th>\n",
              "      <th>Debt</th>\n",
              "      <th>Married</th>\n",
              "      <th>BankCustomer</th>\n",
              "      <th>Ethnicity</th>\n",
              "      <th>YearsEmployed</th>\n",
              "      <th>PriorDefault</th>\n",
              "      <th>Employed</th>\n",
              "      <th>CreditScore</th>\n",
              "      <th>DriversLicense</th>\n",
              "      <th>Citizen</th>\n",
              "      <th>Income</th>\n",
              "    </tr>\n",
              "  </thead>\n",
              "  <tbody>\n",
              "    <tr>\n",
              "      <th>0</th>\n",
              "      <td>1</td>\n",
              "      <td>30.83</td>\n",
              "      <td>0.000</td>\n",
              "      <td>1</td>\n",
              "      <td>1</td>\n",
              "      <td>White</td>\n",
              "      <td>1.25</td>\n",
              "      <td>1</td>\n",
              "      <td>1</td>\n",
              "      <td>1</td>\n",
              "      <td>0</td>\n",
              "      <td>ByBirth</td>\n",
              "      <td>0</td>\n",
              "    </tr>\n",
              "    <tr>\n",
              "      <th>1</th>\n",
              "      <td>0</td>\n",
              "      <td>58.67</td>\n",
              "      <td>4.460</td>\n",
              "      <td>1</td>\n",
              "      <td>1</td>\n",
              "      <td>Black</td>\n",
              "      <td>3.04</td>\n",
              "      <td>1</td>\n",
              "      <td>1</td>\n",
              "      <td>6</td>\n",
              "      <td>0</td>\n",
              "      <td>ByBirth</td>\n",
              "      <td>560</td>\n",
              "    </tr>\n",
              "    <tr>\n",
              "      <th>2</th>\n",
              "      <td>0</td>\n",
              "      <td>24.50</td>\n",
              "      <td>0.500</td>\n",
              "      <td>1</td>\n",
              "      <td>1</td>\n",
              "      <td>Black</td>\n",
              "      <td>1.50</td>\n",
              "      <td>1</td>\n",
              "      <td>0</td>\n",
              "      <td>0</td>\n",
              "      <td>0</td>\n",
              "      <td>ByBirth</td>\n",
              "      <td>824</td>\n",
              "    </tr>\n",
              "    <tr>\n",
              "      <th>3</th>\n",
              "      <td>1</td>\n",
              "      <td>27.83</td>\n",
              "      <td>1.540</td>\n",
              "      <td>1</td>\n",
              "      <td>1</td>\n",
              "      <td>White</td>\n",
              "      <td>3.75</td>\n",
              "      <td>1</td>\n",
              "      <td>1</td>\n",
              "      <td>5</td>\n",
              "      <td>1</td>\n",
              "      <td>ByBirth</td>\n",
              "      <td>3</td>\n",
              "    </tr>\n",
              "    <tr>\n",
              "      <th>4</th>\n",
              "      <td>1</td>\n",
              "      <td>20.17</td>\n",
              "      <td>5.625</td>\n",
              "      <td>1</td>\n",
              "      <td>1</td>\n",
              "      <td>White</td>\n",
              "      <td>1.71</td>\n",
              "      <td>1</td>\n",
              "      <td>0</td>\n",
              "      <td>0</td>\n",
              "      <td>0</td>\n",
              "      <td>ByOtherMeans</td>\n",
              "      <td>0</td>\n",
              "    </tr>\n",
              "  </tbody>\n",
              "</table>\n",
              "</div>\n",
              "      <button class=\"colab-df-convert\" onclick=\"convertToInteractive('df-bfa8f808-8e7e-466e-a6d7-b8c0fadc214c')\"\n",
              "              title=\"Convert this dataframe to an interactive table.\"\n",
              "              style=\"display:none;\">\n",
              "        \n",
              "  <svg xmlns=\"http://www.w3.org/2000/svg\" height=\"24px\"viewBox=\"0 0 24 24\"\n",
              "       width=\"24px\">\n",
              "    <path d=\"M0 0h24v24H0V0z\" fill=\"none\"/>\n",
              "    <path d=\"M18.56 5.44l.94 2.06.94-2.06 2.06-.94-2.06-.94-.94-2.06-.94 2.06-2.06.94zm-11 1L8.5 8.5l.94-2.06 2.06-.94-2.06-.94L8.5 2.5l-.94 2.06-2.06.94zm10 10l.94 2.06.94-2.06 2.06-.94-2.06-.94-.94-2.06-.94 2.06-2.06.94z\"/><path d=\"M17.41 7.96l-1.37-1.37c-.4-.4-.92-.59-1.43-.59-.52 0-1.04.2-1.43.59L10.3 9.45l-7.72 7.72c-.78.78-.78 2.05 0 2.83L4 21.41c.39.39.9.59 1.41.59.51 0 1.02-.2 1.41-.59l7.78-7.78 2.81-2.81c.8-.78.8-2.07 0-2.86zM5.41 20L4 18.59l7.72-7.72 1.47 1.35L5.41 20z\"/>\n",
              "  </svg>\n",
              "      </button>\n",
              "      \n",
              "  <style>\n",
              "    .colab-df-container {\n",
              "      display:flex;\n",
              "      flex-wrap:wrap;\n",
              "      gap: 12px;\n",
              "    }\n",
              "\n",
              "    .colab-df-convert {\n",
              "      background-color: #E8F0FE;\n",
              "      border: none;\n",
              "      border-radius: 50%;\n",
              "      cursor: pointer;\n",
              "      display: none;\n",
              "      fill: #1967D2;\n",
              "      height: 32px;\n",
              "      padding: 0 0 0 0;\n",
              "      width: 32px;\n",
              "    }\n",
              "\n",
              "    .colab-df-convert:hover {\n",
              "      background-color: #E2EBFA;\n",
              "      box-shadow: 0px 1px 2px rgba(60, 64, 67, 0.3), 0px 1px 3px 1px rgba(60, 64, 67, 0.15);\n",
              "      fill: #174EA6;\n",
              "    }\n",
              "\n",
              "    [theme=dark] .colab-df-convert {\n",
              "      background-color: #3B4455;\n",
              "      fill: #D2E3FC;\n",
              "    }\n",
              "\n",
              "    [theme=dark] .colab-df-convert:hover {\n",
              "      background-color: #434B5C;\n",
              "      box-shadow: 0px 1px 3px 1px rgba(0, 0, 0, 0.15);\n",
              "      filter: drop-shadow(0px 1px 2px rgba(0, 0, 0, 0.3));\n",
              "      fill: #FFFFFF;\n",
              "    }\n",
              "  </style>\n",
              "\n",
              "      <script>\n",
              "        const buttonEl =\n",
              "          document.querySelector('#df-bfa8f808-8e7e-466e-a6d7-b8c0fadc214c button.colab-df-convert');\n",
              "        buttonEl.style.display =\n",
              "          google.colab.kernel.accessAllowed ? 'block' : 'none';\n",
              "\n",
              "        async function convertToInteractive(key) {\n",
              "          const element = document.querySelector('#df-bfa8f808-8e7e-466e-a6d7-b8c0fadc214c');\n",
              "          const dataTable =\n",
              "            await google.colab.kernel.invokeFunction('convertToInteractive',\n",
              "                                                     [key], {});\n",
              "          if (!dataTable) return;\n",
              "\n",
              "          const docLinkHtml = 'Like what you see? Visit the ' +\n",
              "            '<a target=\"_blank\" href=https://colab.research.google.com/notebooks/data_table.ipynb>data table notebook</a>'\n",
              "            + ' to learn more about interactive tables.';\n",
              "          element.innerHTML = '';\n",
              "          dataTable['output_type'] = 'display_data';\n",
              "          await google.colab.output.renderOutput(dataTable, element);\n",
              "          const docLink = document.createElement('div');\n",
              "          docLink.innerHTML = docLinkHtml;\n",
              "          element.appendChild(docLink);\n",
              "        }\n",
              "      </script>\n",
              "    </div>\n",
              "  </div>\n",
              "  "
            ]
          },
          "metadata": {},
          "execution_count": 52
        }
      ]
    },
    {
      "cell_type": "code",
      "source": [
        "# Define the Colomn Selector\n",
        "\n",
        "num_selector = make_column_selector(dtype_include= 'number')\n",
        "cat_selector = make_column_selector(dtype_include= 'object')"
      ],
      "metadata": {
        "id": "JfI1lXCHz3b5"
      },
      "execution_count": null,
      "outputs": []
    },
    {
      "cell_type": "code",
      "source": [
        "# Define the scaler and OneHotEncoder\n",
        "\n",
        "scaler = StandardScaler()\n",
        "\n",
        "ohe =  OneHotEncoder(sparse= False, handle_unknown= 'ignore')"
      ],
      "metadata": {
        "id": "ILOHNId8w07j"
      },
      "execution_count": null,
      "outputs": []
    },
    {
      "cell_type": "code",
      "source": [
        "# Create appropriate pipelines\n",
        "\n",
        "num_pipe = make_pipeline(scaler)\n",
        "cat_pipe = make_pipeline(ohe)"
      ],
      "metadata": {
        "id": "BGA55Hys2ywM"
      },
      "execution_count": null,
      "outputs": []
    },
    {
      "cell_type": "code",
      "source": [
        "# Fit the pipelines and coloumn selectors in a tuple\n",
        "\n",
        "num_tuple = (num_pipe, num_selector)\n",
        "cat_tuple = (cat_pipe, cat_selector) "
      ],
      "metadata": {
        "id": "MtK4hll82MfW"
      },
      "execution_count": null,
      "outputs": []
    },
    {
      "cell_type": "code",
      "source": [
        "# Fit the tuples into the column transformer\n",
        "\n",
        "preprocessor = make_column_transformer(num_tuple, cat_tuple)\n",
        "preprocessor"
      ],
      "metadata": {
        "colab": {
          "base_uri": "https://localhost:8080/"
        },
        "id": "wIkT13Hr2MU8",
        "outputId": "4685cc86-21ca-4830-bf13-c23323bc1619"
      },
      "execution_count": null,
      "outputs": [
        {
          "output_type": "execute_result",
          "data": {
            "text/plain": [
              "ColumnTransformer(transformers=[('pipeline-1',\n",
              "                                 Pipeline(steps=[('standardscaler',\n",
              "                                                  StandardScaler())]),\n",
              "                                 <sklearn.compose._column_transformer.make_column_selector object at 0x7ff495b84f10>),\n",
              "                                ('pipeline-2',\n",
              "                                 Pipeline(steps=[('onehotencoder',\n",
              "                                                  OneHotEncoder(handle_unknown='ignore',\n",
              "                                                                sparse=False))]),\n",
              "                                 <sklearn.compose._column_transformer.make_column_selector object at 0x7ff495b84ed0>)])"
            ]
          },
          "metadata": {},
          "execution_count": 100
        }
      ]
    },
    {
      "cell_type": "markdown",
      "source": [
        "# UNIVARIANT DATA VISUALIZATION"
      ],
      "metadata": {
        "id": "mYo5MaVVdJXo"
      }
    },
    {
      "cell_type": "code",
      "source": [
        "# Histogram showing Gender\n",
        "\n",
        "plt.hist(X['Gender'],\n",
        "         edgecolor= 'Black');\n",
        "\n",
        "plt.title('Gender of Credit Card Applicants');\n",
        "plt.xlabel('Gender');\n",
        "plt.ylabel('Number of People');\n",
        "\n",
        "plt.xticks([0,1],['Female', 'Male']);"
      ],
      "metadata": {
        "colab": {
          "base_uri": "https://localhost:8080/",
          "height": 295
        },
        "id": "HnBEe_OdiF_a",
        "outputId": "905236ea-0362-4d0d-af4a-28a237dbe985"
      },
      "execution_count": null,
      "outputs": [
        {
          "output_type": "display_data",
          "data": {
            "text/plain": [
              "<Figure size 432x288 with 1 Axes>"
            ],
            "image/png": "[encoded data removed]"
          },
          "metadata": {
            "needs_background": "light"
          }
        }
      ]
    },
    {
      "cell_type": "markdown",
      "source": [
        "This graph shows us that we have more male clients than female, which may possibly create a bias when determining approval for credit cards"
      ],
      "metadata": {
        "id": "c9p8Agzk4y__"
      }
    },
    {
      "cell_type": "code",
      "source": [
        "# Histogram showing Age of Applicants\n",
        "\n",
        "plt.hist(X['Age'],\n",
        "         edgecolor= 'Black',\n",
        "         bins= 'auto');\n",
        "\n",
        "plt.title('Age of Credit Card Applicants')\n",
        "plt.xlabel('Age')\n",
        "plt.ylabel('Number of People')\n"
      ],
      "metadata": {
        "colab": {
          "base_uri": "https://localhost:8080/",
          "height": 313
        },
        "id": "8r-WQYVmensI",
        "outputId": "366aec4e-8512-4f0f-ba1b-3c142cf418b8"
      },
      "execution_count": null,
      "outputs": [
        {
          "output_type": "execute_result",
          "data": {
            "text/plain": [
              "Text(0, 0.5, 'Number of People')"
            ]
          },
          "metadata": {},
          "execution_count": 102
        },
        {
          "output_type": "display_data",
          "data": {
            "text/plain": [
              "<Figure size 432x288 with 1 Axes>"
            ],
            "image/png": "[encoded data removed]"
          },
          "metadata": {
            "needs_background": "light"
          }
        }
      ]
    },
    {
      "cell_type": "markdown",
      "source": [
        "This graph shows us that majority of the applicant age is under 60 with a few outliers over the age of 70"
      ],
      "metadata": {
        "id": "s31u7r9D5YRI"
      }
    },
    {
      "cell_type": "code",
      "source": [
        "# Histogram showing Debt of Applicants\n",
        "\n",
        "plt.hist(df['Debt'],\n",
        "         edgecolor= 'Black',\n",
        "         bins= 'auto')\n",
        "\n",
        "plt.title('Debt of Credit Card Applicants')\n",
        "plt.xlabel('Debt in ($)')\n",
        "plt.ylabel('Number of People')"
      ],
      "metadata": {
        "colab": {
          "base_uri": "https://localhost:8080/",
          "height": 313
        },
        "id": "MDyIG6W2gufI",
        "outputId": "b47f8154-3455-450d-8eef-98981c7e2430"
      },
      "execution_count": null,
      "outputs": [
        {
          "output_type": "execute_result",
          "data": {
            "text/plain": [
              "Text(0, 0.5, 'Number of People')"
            ]
          },
          "metadata": {},
          "execution_count": 103
        },
        {
          "output_type": "display_data",
          "data": {
            "text/plain": [
              "<Figure size 432x288 with 1 Axes>"
            ],
            "image/png": "[encoded data removed]"
          },
          "metadata": {
            "needs_background": "light"
          }
        }
      ]
    },
    {
      "cell_type": "markdown",
      "source": [
        "This graph shows us that most applicants have debt under 15 dollars with a few outliers over 25 dollars"
      ],
      "metadata": {
        "id": "KoWuq6AE6D96"
      }
    },
    {
      "cell_type": "code",
      "source": [
        "# Histogram showing Married\n",
        "\n",
        "plt.hist(X['Married'],\n",
        "         edgecolor= 'Black');\n",
        "\n",
        "plt.title('Gender of Credit Card Applicants');\n",
        "plt.xlabel('Single or Married');\n",
        "plt.ylabel('Number of People');\n",
        "\n",
        "plt.xticks([0,1],['Single', 'Married']);"
      ],
      "metadata": {
        "id": "ZIQfOg1Mex4j",
        "colab": {
          "base_uri": "https://localhost:8080/",
          "height": 295
        },
        "outputId": "70e26d88-759f-46bf-fbcd-9b713ef71842"
      },
      "execution_count": null,
      "outputs": [
        {
          "output_type": "display_data",
          "data": {
            "text/plain": [
              "<Figure size 432x288 with 1 Axes>"
            ],
            "image/png": "[encoded data removed]"
          },
          "metadata": {
            "needs_background": "light"
          }
        }
      ]
    },
    {
      "cell_type": "markdown",
      "source": [
        "This data shows us whether or not the applicants are married or single. We can see that most of the applicants are married and therefore there may be a bias towards married when making predictions for approval"
      ],
      "metadata": {
        "id": "iL2dvh136mtc"
      }
    },
    {
      "cell_type": "code",
      "source": [
        "# Histogram showing whether or not an applicant has a bank account\n",
        "\n",
        "plt.hist(X['BankCustomer'],\n",
        "         edgecolor= 'Black');\n",
        "\n",
        "plt.title('Bank Account Ownership');\n",
        "plt.xlabel('Bank Account');\n",
        "plt.ylabel('Number of People');\n",
        "\n",
        "plt.xticks([0,1],['No', 'Yes']);"
      ],
      "metadata": {
        "colab": {
          "base_uri": "https://localhost:8080/",
          "height": 295
        },
        "id": "OlCb7EU2oZ80",
        "outputId": "29dd999f-1387-4d51-f4f7-175d4609d5ed"
      },
      "execution_count": null,
      "outputs": [
        {
          "output_type": "display_data",
          "data": {
            "text/plain": [
              "<Figure size 432x288 with 1 Axes>"
            ],
            "image/png": "[encoded data removed]"
          },
          "metadata": {
            "needs_background": "light"
          }
        }
      ]
    },
    {
      "cell_type": "markdown",
      "source": [
        "This graph shows us whether or not the applicants have a bank account. The data here is skewed towards yes and therefore may have a bias towards it. "
      ],
      "metadata": {
        "id": "2JLwIdiQ7QtU"
      }
    },
    {
      "cell_type": "code",
      "source": [
        "# Histogram showing Ethnicity\n",
        "\n",
        "plt.hist(X['Ethnicity'],\n",
        "         edgecolor= 'Black');\n",
        "\n",
        "plt.title('Ethnicity of Credit Card Applicants');\n",
        "plt.xlabel('Ethnicity');\n",
        "plt.ylabel('Number of People');\n",
        "\n"
      ],
      "metadata": {
        "colab": {
          "base_uri": "https://localhost:8080/",
          "height": 295
        },
        "id": "cHFKTTxHqAUe",
        "outputId": "40cca359-c874-4e7e-bf66-9429f0102cab"
      },
      "execution_count": null,
      "outputs": [
        {
          "output_type": "display_data",
          "data": {
            "text/plain": [
              "<Figure size 432x288 with 1 Axes>"
            ],
            "image/png": "[encoded data removed]"
          },
          "metadata": {
            "needs_background": "light"
          }
        }
      ]
    },
    {
      "cell_type": "markdown",
      "source": [
        "This graph shows us the diversity of applicants based on their Ethnicity. This dataset shows us that most of clients are caucasian or african american and therefore may have a bias towards those two ethnicities when predicting for approval."
      ],
      "metadata": {
        "id": "8_9rn-0x72LW"
      }
    },
    {
      "cell_type": "code",
      "source": [
        "# Histogram showing Years of Emplyment\n",
        "\n",
        "plt.hist(X['YearsEmployed'],\n",
        "         edgecolor= 'Black');\n",
        "\n",
        "plt.title('Years of Employment of Credit Card Applicants');\n",
        "plt.xlabel('Years');\n",
        "plt.ylabel('Number of People');\n"
      ],
      "metadata": {
        "colab": {
          "base_uri": "https://localhost:8080/",
          "height": 295
        },
        "id": "Duejp_7cqe41",
        "outputId": "7f47acb5-a1c2-4a78-c249-168011176164"
      },
      "execution_count": null,
      "outputs": [
        {
          "output_type": "display_data",
          "data": {
            "text/plain": [
              "<Figure size 432x288 with 1 Axes>"
            ],
            "image/png": "[encoded data removed]"
          },
          "metadata": {
            "needs_background": "light"
          }
        }
      ]
    },
    {
      "cell_type": "markdown",
      "source": [
        "This graph shows us that most of the applicants are fairly newly employed with a few outliers with that have been employed over 20 years"
      ],
      "metadata": {
        "id": "14M7xsOk-5ia"
      }
    },
    {
      "cell_type": "code",
      "source": [
        "# Histogram showing Prior Default\n",
        "\n",
        "plt.hist(X['PriorDefault'],\n",
        "         edgecolor= 'Black');\n",
        "\n",
        "plt.title('Default Satatus of Credit Card Applicants');\n",
        "plt.xlabel('Prior Default');\n",
        "plt.ylabel('Number of People');\n",
        "\n",
        "plt.xticks([0,1],['No', 'Yes']);"
      ],
      "metadata": {
        "colab": {
          "base_uri": "https://localhost:8080/",
          "height": 295
        },
        "id": "UI47g-XRq6_s",
        "outputId": "174013b4-c151-482b-e440-b2b6f5ff9219"
      },
      "execution_count": null,
      "outputs": [
        {
          "output_type": "display_data",
          "data": {
            "text/plain": [
              "<Figure size 432x288 with 1 Axes>"
            ],
            "image/png": "[encoded data removed]"
          },
          "metadata": {
            "needs_background": "light"
          }
        }
      ]
    },
    {
      "cell_type": "markdown",
      "source": [
        "This shows us that we have the applicants who have defaulted a payment vs those that have not, is weighted pretty evenly. No bias here"
      ],
      "metadata": {
        "id": "EUBtBvQo_UBh"
      }
    },
    {
      "cell_type": "code",
      "source": [
        "# Histogram showing if applicants are Employed\n",
        "\n",
        "plt.hist(X['Employed'],\n",
        "         edgecolor= 'Black');\n",
        "\n",
        "plt.title('Employment Status of Credit Card Applicants');\n",
        "plt.xlabel('Employed');\n",
        "plt.ylabel('Number of People');\n",
        "\n",
        "plt.xticks([0,1],['No', 'Yes']);"
      ],
      "metadata": {
        "colab": {
          "base_uri": "https://localhost:8080/",
          "height": 295
        },
        "id": "415Y1ZcKraL_",
        "outputId": "c68b1848-5d89-4112-8a10-97f0041924e8"
      },
      "execution_count": null,
      "outputs": [
        {
          "output_type": "display_data",
          "data": {
            "text/plain": [
              "<Figure size 432x288 with 1 Axes>"
            ],
            "image/png": "[encoded data removed]"
          },
          "metadata": {
            "needs_background": "light"
          }
        }
      ]
    },
    {
      "cell_type": "markdown",
      "source": [
        "This shows us that more applicants are unemployed than employed. May skew bias slightly when predicting for approval."
      ],
      "metadata": {
        "id": "FAbeJBBgAg1K"
      }
    },
    {
      "cell_type": "code",
      "source": [
        "# Histogram showing Credit Score\n",
        "\n",
        "plt.hist(X['CreditScore'],\n",
        "         edgecolor= 'Black');\n",
        "\n",
        "plt.title('Credit Score of Credit Card Applicants');\n",
        "plt.xlabel('Credit Score');\n",
        "plt.ylabel('Number of People');"
      ],
      "metadata": {
        "colab": {
          "base_uri": "https://localhost:8080/",
          "height": 295
        },
        "id": "zPfYIxewrzqn",
        "outputId": "a5d18b6f-ddf1-4a2a-ca4d-13b22c352772"
      },
      "execution_count": null,
      "outputs": [
        {
          "output_type": "display_data",
          "data": {
            "text/plain": [
              "<Figure size 432x288 with 1 Axes>"
            ],
            "image/png": "[encoded data removed]"
          },
          "metadata": {
            "needs_background": "light"
          }
        }
      ]
    },
    {
      "cell_type": "markdown",
      "source": [
        "This graph shows us that majority of our data set has a low credit score. "
      ],
      "metadata": {
        "id": "nw287vWSMpiP"
      }
    },
    {
      "cell_type": "code",
      "source": [
        "# Histogram showing if applicants have a Drivers License\n",
        "\n",
        "plt.hist(X['DriversLicense'],\n",
        "         edgecolor= 'Black');\n",
        "\n",
        "plt.title('Drivers License Status of Credit Card Applicants');\n",
        "plt.xlabel('Drivers License');\n",
        "plt.ylabel('Number of People');\n",
        "\n",
        "plt.xticks([0,1],['No', 'Yes']);"
      ],
      "metadata": {
        "colab": {
          "base_uri": "https://localhost:8080/",
          "height": 295
        },
        "id": "MHr2_sJxsm0B",
        "outputId": "0256789b-fe83-4d67-b7ee-82ee54311af0"
      },
      "execution_count": null,
      "outputs": [
        {
          "output_type": "display_data",
          "data": {
            "text/plain": [
              "<Figure size 432x288 with 1 Axes>"
            ],
            "image/png": "[encoded data removed]"
          },
          "metadata": {
            "needs_background": "light"
          }
        }
      ]
    },
    {
      "cell_type": "markdown",
      "source": [
        "This graph shows us that the data is pretty balanced on whether or not the applicants have a drivers license"
      ],
      "metadata": {
        "id": "1ALwHiwsM4oh"
      }
    },
    {
      "cell_type": "code",
      "source": [
        "# Histogram showing if applicants are Citizens\n",
        "\n",
        "plt.hist(X['Citizen'],\n",
        "         edgecolor= 'Black');\n",
        "\n",
        "plt.title('Citizenship Status of Credit Card Applicants');\n",
        "plt.xlabel('Citizenship Status');\n",
        "plt.ylabel('Number of People');\n",
        "\n"
      ],
      "metadata": {
        "colab": {
          "base_uri": "https://localhost:8080/",
          "height": 295
        },
        "id": "bHddAIPqtRkJ",
        "outputId": "e773b86f-dfb5-40e3-fc2f-135a2179acde"
      },
      "execution_count": null,
      "outputs": [
        {
          "output_type": "display_data",
          "data": {
            "text/plain": [
              "<Figure size 432x288 with 1 Axes>"
            ],
            "image/png": "[encoded data removed]"
          },
          "metadata": {
            "needs_background": "light"
          }
        }
      ]
    },
    {
      "cell_type": "markdown",
      "source": [
        "This graph shows us that the data is very highly skewed towards applicants who obtained their citizenship by birth. This could influence a bias towards that when predicting for approval."
      ],
      "metadata": {
        "id": "ubN3E7k8Pdvp"
      }
    },
    {
      "cell_type": "code",
      "source": [
        "# Histogram showing Income of Applicants\n",
        "\n",
        "plt.hist(X['Income'],\n",
        "         edgecolor= 'Black');\n",
        "\n",
        "plt.title('Income of Credit Card Applicants');\n",
        "plt.xlabel('Income');\n",
        "plt.ylabel('Number of People');\n"
      ],
      "metadata": {
        "colab": {
          "base_uri": "https://localhost:8080/",
          "height": 295
        },
        "id": "WWDgksz3tSOA",
        "outputId": "17e4194c-080b-428f-ec94-07222be2a36d"
      },
      "execution_count": null,
      "outputs": [
        {
          "output_type": "display_data",
          "data": {
            "text/plain": [
              "<Figure size 432x288 with 1 Axes>"
            ],
            "image/png": "[encoded data removed]"
          },
          "metadata": {
            "needs_background": "light"
          }
        }
      ]
    },
    {
      "cell_type": "markdown",
      "source": [
        "This graph shows the income of applicants. There seems to be a very high bias towards people earning less than 20,000 dollars. This may influence the predictions on approval."
      ],
      "metadata": {
        "id": "A1ibbaO1QXIu"
      }
    },
    {
      "cell_type": "code",
      "source": [
        "# Histogram showing if applicants are Approved\n",
        "\n",
        "plt.hist(y,\n",
        "         edgecolor= 'Black');\n",
        "\n",
        "plt.title('Employment Datatus of Credit Card Applicants');\n",
        "plt.xlabel('Approved');\n",
        "plt.ylabel('Number of People');\n",
        "\n",
        "plt.xticks([0,1],['No', 'Yes']);"
      ],
      "metadata": {
        "colab": {
          "base_uri": "https://localhost:8080/",
          "height": 295
        },
        "id": "_yWPAfd9u1PW",
        "outputId": "00ffa80d-4b62-4ab8-f645-2d4196ca33f4"
      },
      "execution_count": null,
      "outputs": [
        {
          "output_type": "display_data",
          "data": {
            "text/plain": [
              "<Figure size 432x288 with 1 Axes>"
            ],
            "image/png": "[encoded data removed]"
          },
          "metadata": {
            "needs_background": "light"
          }
        }
      ]
    },
    {
      "cell_type": "markdown",
      "source": [
        "This graph shows us that more people got denied for a credit card than approved. "
      ],
      "metadata": {
        "id": "sv9Zkrq3RAyN"
      }
    }
  ]
}