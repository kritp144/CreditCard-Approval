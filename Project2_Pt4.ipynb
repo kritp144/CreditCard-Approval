{
  "nbformat": 4,
  "nbformat_minor": 0,
  "metadata": {
    "colab": {
      "name": "Project2_Pt4.ipynb",
      "provenance": [],
      "collapsed_sections": [
        "mYo5MaVVdJXo",
        "WapsWQBC0FBo",
        "KAtLtT4SAmZT",
        "FqtVsmjcAllF",
        "AGsgZYaICLpE",
        "3mqIY9gOCkA-",
        "F6knLcz39cl-"
      ],
      "mount_file_id": "114xfA8WAx4YafgC3YM73baP_FqYTaVsl",
      "authorship_tag": "ABX9TyODK8WMzMjqWM0aR3Vl+i4A",
      "include_colab_link": true
    },
    "kernelspec": {
      "name": "python3",
      "display_name": "Python 3"
    },
    "language_info": {
      "name": "python"
    }
  },
  "cells": [
    {
      "cell_type": "markdown",
      "metadata": {
        "id": "view-in-github",
        "colab_type": "text"
      },
      "source": [
        "<a href=\"https://colab.research.google.com/github/kritp144/CreditCard-Approval/blob/main/Project2_Pt4.ipynb\" target=\"_parent\"><img src=\"https://colab.research.google.com/assets/colab-badge.svg\" alt=\"Open In Colab\"/></a>"
      ]
    },
    {
      "cell_type": "markdown",
      "source": [
        "# PROJECT 2\n",
        "\n",
        "KRIT PATEL"
      ],
      "metadata": {
        "id": "3QhlgciJG40h"
      }
    },
    {
      "cell_type": "markdown",
      "source": [
        "# CREDIT CARD APPROVAL:\n",
        "\n",
        "The Task of this project is to create a prediction model that will determine whether or not a person gets approved for a credit card. The data was from Kaggle belonging to a UCI machine learning repository.\n",
        "\n",
        "Source: https://www.kaggle.com/datasets/samuelcortinhas/credit-card-approval-clean-data?select=clean_dataset.csv"
      ],
      "metadata": {
        "id": "yb8iTTZnHA3i"
      }
    },
    {
      "cell_type": "markdown",
      "source": [
        "# IMPORTING LIBRARIES AND LOADING THE DATA"
      ],
      "metadata": {
        "id": "sqOek_3jIXg6"
      }
    },
    {
      "cell_type": "code",
      "execution_count": null,
      "metadata": {
        "id": "Q26gGa0lGx2z"
      },
      "outputs": [],
      "source": [
        "# Import Libraries\n",
        "\n",
        "import pandas as pd\n",
        "import numpy as np\n",
        "import matplotlib.pyplot as plt\n",
        "import seaborn as sns\n",
        "\n",
        "from sklearn.model_selection import train_test_split, GridSearchCV\n",
        "from sklearn.preprocessing import StandardScaler, OneHotEncoder\n",
        "from sklearn.pipeline import make_pipeline\n",
        "from sklearn.compose import make_column_selector, make_column_transformer\n",
        "\n",
        "from sklearn.decomposition import PCA\n",
        "from sklearn.linear_model import LogisticRegression\n",
        "from sklearn.ensemble import RandomForestClassifier\n",
        "from sklearn.neighbors import KNeighborsClassifier\n"
      ]
    },
    {
      "cell_type": "code",
      "source": [
        "# Loading the Data\n",
        "\n",
        "data = '/content/drive/MyDrive/DATA SCIENCE/Project 2 Datasets/creditcard.csv'\n",
        "\n",
        "df = pd.read_csv(data)\n",
        "\n",
        "df.head()"
      ],
      "metadata": {
        "colab": {
          "base_uri": "https://localhost:8080/",
          "height": 268
        },
        "id": "G_VyjRNZIl-H",
        "outputId": "cf29a29d-bdfb-4d43-e1c5-b5dfd919b76e"
      },
      "execution_count": null,
      "outputs": [
        {
          "output_type": "execute_result",
          "data": {
            "text/plain": [
              "   Gender    Age   Debt  Married  BankCustomer     Industry Ethnicity  \\\n",
              "0       1  30.83  0.000        1             1  Industrials     White   \n",
              "1       0  58.67  4.460        1             1    Materials     Black   \n",
              "2       0  24.50  0.500        1             1    Materials     Black   \n",
              "3       1  27.83  1.540        1             1  Industrials     White   \n",
              "4       1  20.17  5.625        1             1  Industrials     White   \n",
              "\n",
              "   YearsEmployed  PriorDefault  Employed  CreditScore  DriversLicense  \\\n",
              "0           1.25             1         1            1               0   \n",
              "1           3.04             1         1            6               0   \n",
              "2           1.50             1         0            0               0   \n",
              "3           3.75             1         1            5               1   \n",
              "4           1.71             1         0            0               0   \n",
              "\n",
              "        Citizen  ZipCode  Income  Approved  \n",
              "0       ByBirth      202       0         1  \n",
              "1       ByBirth       43     560         1  \n",
              "2       ByBirth      280     824         1  \n",
              "3       ByBirth      100       3         1  \n",
              "4  ByOtherMeans      120       0         1  "
            ],
            "text/html": [
              "\n",
              "  <div id=\"df-7025f89e-b810-4484-9354-58a372e4b9a1\">\n",
              "    <div class=\"colab-df-container\">\n",
              "      <div>\n",
              "<style scoped>\n",
              "    .dataframe tbody tr th:only-of-type {\n",
              "        vertical-align: middle;\n",
              "    }\n",
              "\n",
              "    .dataframe tbody tr th {\n",
              "        vertical-align: top;\n",
              "    }\n",
              "\n",
              "    .dataframe thead th {\n",
              "        text-align: right;\n",
              "    }\n",
              "</style>\n",
              "<table border=\"1\" class=\"dataframe\">\n",
              "  <thead>\n",
              "    <tr style=\"text-align: right;\">\n",
              "      <th></th>\n",
              "      <th>Gender</th>\n",
              "      <th>Age</th>\n",
              "      <th>Debt</th>\n",
              "      <th>Married</th>\n",
              "      <th>BankCustomer</th>\n",
              "      <th>Industry</th>\n",
              "      <th>Ethnicity</th>\n",
              "      <th>YearsEmployed</th>\n",
              "      <th>PriorDefault</th>\n",
              "      <th>Employed</th>\n",
              "      <th>CreditScore</th>\n",
              "      <th>DriversLicense</th>\n",
              "      <th>Citizen</th>\n",
              "      <th>ZipCode</th>\n",
              "      <th>Income</th>\n",
              "      <th>Approved</th>\n",
              "    </tr>\n",
              "  </thead>\n",
              "  <tbody>\n",
              "    <tr>\n",
              "      <th>0</th>\n",
              "      <td>1</td>\n",
              "      <td>30.83</td>\n",
              "      <td>0.000</td>\n",
              "      <td>1</td>\n",
              "      <td>1</td>\n",
              "      <td>Industrials</td>\n",
              "      <td>White</td>\n",
              "      <td>1.25</td>\n",
              "      <td>1</td>\n",
              "      <td>1</td>\n",
              "      <td>1</td>\n",
              "      <td>0</td>\n",
              "      <td>ByBirth</td>\n",
              "      <td>202</td>\n",
              "      <td>0</td>\n",
              "      <td>1</td>\n",
              "    </tr>\n",
              "    <tr>\n",
              "      <th>1</th>\n",
              "      <td>0</td>\n",
              "      <td>58.67</td>\n",
              "      <td>4.460</td>\n",
              "      <td>1</td>\n",
              "      <td>1</td>\n",
              "      <td>Materials</td>\n",
              "      <td>Black</td>\n",
              "      <td>3.04</td>\n",
              "      <td>1</td>\n",
              "      <td>1</td>\n",
              "      <td>6</td>\n",
              "      <td>0</td>\n",
              "      <td>ByBirth</td>\n",
              "      <td>43</td>\n",
              "      <td>560</td>\n",
              "      <td>1</td>\n",
              "    </tr>\n",
              "    <tr>\n",
              "      <th>2</th>\n",
              "      <td>0</td>\n",
              "      <td>24.50</td>\n",
              "      <td>0.500</td>\n",
              "      <td>1</td>\n",
              "      <td>1</td>\n",
              "      <td>Materials</td>\n",
              "      <td>Black</td>\n",
              "      <td>1.50</td>\n",
              "      <td>1</td>\n",
              "      <td>0</td>\n",
              "      <td>0</td>\n",
              "      <td>0</td>\n",
              "      <td>ByBirth</td>\n",
              "      <td>280</td>\n",
              "      <td>824</td>\n",
              "      <td>1</td>\n",
              "    </tr>\n",
              "    <tr>\n",
              "      <th>3</th>\n",
              "      <td>1</td>\n",
              "      <td>27.83</td>\n",
              "      <td>1.540</td>\n",
              "      <td>1</td>\n",
              "      <td>1</td>\n",
              "      <td>Industrials</td>\n",
              "      <td>White</td>\n",
              "      <td>3.75</td>\n",
              "      <td>1</td>\n",
              "      <td>1</td>\n",
              "      <td>5</td>\n",
              "      <td>1</td>\n",
              "      <td>ByBirth</td>\n",
              "      <td>100</td>\n",
              "      <td>3</td>\n",
              "      <td>1</td>\n",
              "    </tr>\n",
              "    <tr>\n",
              "      <th>4</th>\n",
              "      <td>1</td>\n",
              "      <td>20.17</td>\n",
              "      <td>5.625</td>\n",
              "      <td>1</td>\n",
              "      <td>1</td>\n",
              "      <td>Industrials</td>\n",
              "      <td>White</td>\n",
              "      <td>1.71</td>\n",
              "      <td>1</td>\n",
              "      <td>0</td>\n",
              "      <td>0</td>\n",
              "      <td>0</td>\n",
              "      <td>ByOtherMeans</td>\n",
              "      <td>120</td>\n",
              "      <td>0</td>\n",
              "      <td>1</td>\n",
              "    </tr>\n",
              "  </tbody>\n",
              "</table>\n",
              "</div>\n",
              "      <button class=\"colab-df-convert\" onclick=\"convertToInteractive('df-7025f89e-b810-4484-9354-58a372e4b9a1')\"\n",
              "              title=\"Convert this dataframe to an interactive table.\"\n",
              "              style=\"display:none;\">\n",
              "        \n",
              "  <svg xmlns=\"http://www.w3.org/2000/svg\" height=\"24px\"viewBox=\"0 0 24 24\"\n",
              "       width=\"24px\">\n",
              "    <path d=\"M0 0h24v24H0V0z\" fill=\"none\"/>\n",
              "    <path d=\"M18.56 5.44l.94 2.06.94-2.06 2.06-.94-2.06-.94-.94-2.06-.94 2.06-2.06.94zm-11 1L8.5 8.5l.94-2.06 2.06-.94-2.06-.94L8.5 2.5l-.94 2.06-2.06.94zm10 10l.94 2.06.94-2.06 2.06-.94-2.06-.94-.94-2.06-.94 2.06-2.06.94z\"/><path d=\"M17.41 7.96l-1.37-1.37c-.4-.4-.92-.59-1.43-.59-.52 0-1.04.2-1.43.59L10.3 9.45l-7.72 7.72c-.78.78-.78 2.05 0 2.83L4 21.41c.39.39.9.59 1.41.59.51 0 1.02-.2 1.41-.59l7.78-7.78 2.81-2.81c.8-.78.8-2.07 0-2.86zM5.41 20L4 18.59l7.72-7.72 1.47 1.35L5.41 20z\"/>\n",
              "  </svg>\n",
              "      </button>\n",
              "      \n",
              "  <style>\n",
              "    .colab-df-container {\n",
              "      display:flex;\n",
              "      flex-wrap:wrap;\n",
              "      gap: 12px;\n",
              "    }\n",
              "\n",
              "    .colab-df-convert {\n",
              "      background-color: #E8F0FE;\n",
              "      border: none;\n",
              "      border-radius: 50%;\n",
              "      cursor: pointer;\n",
              "      display: none;\n",
              "      fill: #1967D2;\n",
              "      height: 32px;\n",
              "      padding: 0 0 0 0;\n",
              "      width: 32px;\n",
              "    }\n",
              "\n",
              "    .colab-df-convert:hover {\n",
              "      background-color: #E2EBFA;\n",
              "      box-shadow: 0px 1px 2px rgba(60, 64, 67, 0.3), 0px 1px 3px 1px rgba(60, 64, 67, 0.15);\n",
              "      fill: #174EA6;\n",
              "    }\n",
              "\n",
              "    [theme=dark] .colab-df-convert {\n",
              "      background-color: #3B4455;\n",
              "      fill: #D2E3FC;\n",
              "    }\n",
              "\n",
              "    [theme=dark] .colab-df-convert:hover {\n",
              "      background-color: #434B5C;\n",
              "      box-shadow: 0px 1px 3px 1px rgba(0, 0, 0, 0.15);\n",
              "      filter: drop-shadow(0px 1px 2px rgba(0, 0, 0, 0.3));\n",
              "      fill: #FFFFFF;\n",
              "    }\n",
              "  </style>\n",
              "\n",
              "      <script>\n",
              "        const buttonEl =\n",
              "          document.querySelector('#df-7025f89e-b810-4484-9354-58a372e4b9a1 button.colab-df-convert');\n",
              "        buttonEl.style.display =\n",
              "          google.colab.kernel.accessAllowed ? 'block' : 'none';\n",
              "\n",
              "        async function convertToInteractive(key) {\n",
              "          const element = document.querySelector('#df-7025f89e-b810-4484-9354-58a372e4b9a1');\n",
              "          const dataTable =\n",
              "            await google.colab.kernel.invokeFunction('convertToInteractive',\n",
              "                                                     [key], {});\n",
              "          if (!dataTable) return;\n",
              "\n",
              "          const docLinkHtml = 'Like what you see? Visit the ' +\n",
              "            '<a target=\"_blank\" href=https://colab.research.google.com/notebooks/data_table.ipynb>data table notebook</a>'\n",
              "            + ' to learn more about interactive tables.';\n",
              "          element.innerHTML = '';\n",
              "          dataTable['output_type'] = 'display_data';\n",
              "          await google.colab.output.renderOutput(dataTable, element);\n",
              "          const docLink = document.createElement('div');\n",
              "          docLink.innerHTML = docLinkHtml;\n",
              "          element.appendChild(docLink);\n",
              "        }\n",
              "      </script>\n",
              "    </div>\n",
              "  </div>\n",
              "  "
            ]
          },
          "metadata": {},
          "execution_count": 1140
        }
      ]
    },
    {
      "cell_type": "markdown",
      "source": [
        "# PRE CLEANING DATA ANALYSIS"
      ],
      "metadata": {
        "id": "flXc1h0EJsag"
      }
    },
    {
      "cell_type": "code",
      "source": [
        "# Check the Size of the Data\n",
        "\n",
        "print('Rows, Columns')\n",
        "df.shape "
      ],
      "metadata": {
        "colab": {
          "base_uri": "https://localhost:8080/"
        },
        "id": "J66IxJpgJ3a4",
        "outputId": "eba7739c-8bd3-493f-87ac-881f43a933d7"
      },
      "execution_count": null,
      "outputs": [
        {
          "output_type": "stream",
          "name": "stdout",
          "text": [
            "Rows, Columns\n"
          ]
        },
        {
          "output_type": "execute_result",
          "data": {
            "text/plain": [
              "(690, 16)"
            ]
          },
          "metadata": {},
          "execution_count": 1141
        }
      ]
    },
    {
      "cell_type": "code",
      "source": [
        "# Check for Duplicates\n",
        "\n",
        "print('Duplicated Values:')\n",
        "df.duplicated().sum()"
      ],
      "metadata": {
        "colab": {
          "base_uri": "https://localhost:8080/"
        },
        "id": "eBW0FYQZKnFk",
        "outputId": "f2bf86cc-bdbd-4031-cc1f-b5449821a2ab"
      },
      "execution_count": null,
      "outputs": [
        {
          "output_type": "stream",
          "name": "stdout",
          "text": [
            "Duplicated Values:\n"
          ]
        },
        {
          "output_type": "execute_result",
          "data": {
            "text/plain": [
              "0"
            ]
          },
          "metadata": {},
          "execution_count": 1142
        }
      ]
    },
    {
      "cell_type": "code",
      "source": [
        "# Check the Data types and missing values of each column\n",
        "\n",
        "df.info()"
      ],
      "metadata": {
        "colab": {
          "base_uri": "https://localhost:8080/"
        },
        "id": "xUYjYOChKJpM",
        "outputId": "68256432-de9b-4bf7-d49c-ab8c1628f5c2"
      },
      "execution_count": null,
      "outputs": [
        {
          "output_type": "stream",
          "name": "stdout",
          "text": [
            "<class 'pandas.core.frame.DataFrame'>\n",
            "RangeIndex: 690 entries, 0 to 689\n",
            "Data columns (total 16 columns):\n",
            " #   Column          Non-Null Count  Dtype  \n",
            "---  ------          --------------  -----  \n",
            " 0   Gender          690 non-null    int64  \n",
            " 1   Age             690 non-null    float64\n",
            " 2   Debt            690 non-null    float64\n",
            " 3   Married         690 non-null    int64  \n",
            " 4   BankCustomer    690 non-null    int64  \n",
            " 5   Industry        690 non-null    object \n",
            " 6   Ethnicity       690 non-null    object \n",
            " 7   YearsEmployed   690 non-null    float64\n",
            " 8   PriorDefault    690 non-null    int64  \n",
            " 9   Employed        690 non-null    int64  \n",
            " 10  CreditScore     690 non-null    int64  \n",
            " 11  DriversLicense  690 non-null    int64  \n",
            " 12  Citizen         690 non-null    object \n",
            " 13  ZipCode         690 non-null    int64  \n",
            " 14  Income          690 non-null    int64  \n",
            " 15  Approved        690 non-null    int64  \n",
            "dtypes: float64(3), int64(10), object(3)\n",
            "memory usage: 86.4+ KB\n"
          ]
        }
      ]
    },
    {
      "cell_type": "code",
      "source": [
        "# Check for min and max values in numerical data\n",
        "\n",
        "# Check for min and max age \n",
        "print('Min Age:', df['Age'].min())\n",
        "print('Max Age:', df['Age'].max(), '\\n')\n",
        "\n",
        "# Check for min and max years employed\n",
        "print('Min Years of Employment:', df['YearsEmployed'].min())\n",
        "print('Max Years of Employment:', df['YearsEmployed'].max(), '\\n')\n",
        "\n",
        "# Check for min and max years employed\n",
        "print('Min Debt:', df['Debt'].min())\n",
        "print('Max Debt:', df['Debt'].max(), '\\n')\n",
        "\n",
        "# Check for min and max years employed\n",
        "print('Min Credit Score:', df['CreditScore'].min())\n",
        "print('Max Credit Score:', df['CreditScore'].max(), '\\n')"
      ],
      "metadata": {
        "colab": {
          "base_uri": "https://localhost:8080/"
        },
        "id": "vONEeZWBLmP5",
        "outputId": "10ac052d-b264-4056-ad4b-d89eccbb8527"
      },
      "execution_count": null,
      "outputs": [
        {
          "output_type": "stream",
          "name": "stdout",
          "text": [
            "Min Age: 13.75\n",
            "Max Age: 80.25 \n",
            "\n",
            "Min Years of Employment: 0.0\n",
            "Max Years of Employment: 28.5 \n",
            "\n",
            "Min Debt: 0.0\n",
            "Max Debt: 28.0 \n",
            "\n",
            "Min Credit Score: 0\n",
            "Max Credit Score: 67 \n",
            "\n"
          ]
        }
      ]
    },
    {
      "cell_type": "code",
      "source": [
        "# Check for Categories in each Categorical columns\n",
        "\n",
        "# Gender\n",
        "print('Gender:')\n",
        "print(df['Gender'].value_counts(), '\\n')\n",
        "\n",
        "# Married\n",
        "print('Married:')\n",
        "print(df['Married'].value_counts(), '\\n')\n",
        "\n",
        "# Bank Customer\n",
        "print('Bank Customer:')\n",
        "print(df['BankCustomer'].value_counts(), '\\n')\n",
        "\n",
        "# Industy\n",
        "print('Industry:')\n",
        "print(df['Industry'].value_counts(), '\\n')\n",
        "\n",
        "# Ethnicity\n",
        "print('Ethnicity:')\n",
        "print(df['Ethnicity'].value_counts(), '\\n')\n",
        "\n",
        "# Prior Default\n",
        "print('Prior Default:')\n",
        "print(df['PriorDefault'].value_counts(), '\\n')\n",
        "\n",
        "# Employed\n",
        "print('Employed:')\n",
        "print(df['Employed'].value_counts(), '\\n')\n",
        "\n",
        "# Credit Score\n",
        "print('Credit Score:')\n",
        "print(df['CreditScore'].value_counts(), '\\n')\n",
        "\n",
        "# Drivers License\n",
        "print('Drivers License:')\n",
        "print(df['DriversLicense'].value_counts(), '\\n')\n",
        "\n",
        "# Citizen\n",
        "print('Citizen:')\n",
        "print(df['Citizen'].value_counts(), '\\n')\n",
        "\n",
        "# Approved\n",
        "print('Approved:')\n",
        "print(df['Approved'].value_counts(), '\\n') "
      ],
      "metadata": {
        "colab": {
          "base_uri": "https://localhost:8080/"
        },
        "id": "yA2RTBu8KWc8",
        "outputId": "6a959afa-04c9-478f-80bb-9cee2046ef9c"
      },
      "execution_count": null,
      "outputs": [
        {
          "output_type": "stream",
          "name": "stdout",
          "text": [
            "Gender:\n",
            "1    480\n",
            "0    210\n",
            "Name: Gender, dtype: int64 \n",
            "\n",
            "Married:\n",
            "1    525\n",
            "0    165\n",
            "Name: Married, dtype: int64 \n",
            "\n",
            "Bank Customer:\n",
            "1    527\n",
            "0    163\n",
            "Name: BankCustomer, dtype: int64 \n",
            "\n",
            "Industry:\n",
            "Energy                   146\n",
            "Materials                 78\n",
            "Industrials               64\n",
            "ConsumerDiscretionary     59\n",
            "ConsumerStaples           54\n",
            "Healthcare                53\n",
            "Financials                51\n",
            "InformationTechnology     41\n",
            "CommunicationServices     38\n",
            "Utilities                 38\n",
            "Real Estate               30\n",
            "Education                 25\n",
            "Research                  10\n",
            "Transport                  3\n",
            "Name: Industry, dtype: int64 \n",
            "\n",
            "Ethnicity:\n",
            "White     408\n",
            "Black     138\n",
            "Asian      59\n",
            "Latino     57\n",
            "Other      28\n",
            "Name: Ethnicity, dtype: int64 \n",
            "\n",
            "Prior Default:\n",
            "1    361\n",
            "0    329\n",
            "Name: PriorDefault, dtype: int64 \n",
            "\n",
            "Employed:\n",
            "0    395\n",
            "1    295\n",
            "Name: Employed, dtype: int64 \n",
            "\n",
            "Credit Score:\n",
            "0     395\n",
            "1      71\n",
            "2      45\n",
            "3      28\n",
            "6      23\n",
            "11     19\n",
            "5      18\n",
            "7      16\n",
            "4      15\n",
            "9      10\n",
            "8      10\n",
            "10      8\n",
            "14      8\n",
            "12      8\n",
            "15      4\n",
            "16      3\n",
            "20      2\n",
            "17      2\n",
            "23      1\n",
            "40      1\n",
            "67      1\n",
            "13      1\n",
            "19      1\n",
            "Name: CreditScore, dtype: int64 \n",
            "\n",
            "Drivers License:\n",
            "0    374\n",
            "1    316\n",
            "Name: DriversLicense, dtype: int64 \n",
            "\n",
            "Citizen:\n",
            "ByBirth         625\n",
            "ByOtherMeans     57\n",
            "Temporary         8\n",
            "Name: Citizen, dtype: int64 \n",
            "\n",
            "Approved:\n",
            "0    383\n",
            "1    307\n",
            "Name: Approved, dtype: int64 \n",
            "\n"
          ]
        }
      ]
    },
    {
      "cell_type": "markdown",
      "source": [
        "# DATA CLEANING "
      ],
      "metadata": {
        "id": "UDQFHcN3E8Fq"
      }
    },
    {
      "cell_type": "markdown",
      "source": [
        "There are no duplicated values, missing values or inconsistencies.\n",
        "\n",
        "All Ordinal values have already been Ordinally Encoded.\n",
        "\n",
        "Categorical Values in 'Ethnicity' and 'Citizen' column needs to be OneHotEncoded.\n",
        "\n",
        "Numerical Values will all be scaled using a StandardScaler.\n",
        "\n",
        "'Industry' and 'ZipCode' columns needs to be dropped as it isn't important to predict whether or not someone should get approved for a credit card based on the Industry they work in. Same applies to the Zip Code."
      ],
      "metadata": {
        "id": "uogSGfzUVTU7"
      }
    },
    {
      "cell_type": "code",
      "source": [
        "# Define the Features as X and the Target as y\n",
        "\n",
        "X = df.drop(columns= ['Industry', 'ZipCode', 'Approved'])\n",
        "y = df['Approved'] "
      ],
      "metadata": {
        "id": "vP04YXxGbngC"
      },
      "execution_count": null,
      "outputs": []
    },
    {
      "cell_type": "code",
      "source": [
        "X.head() "
      ],
      "metadata": {
        "colab": {
          "base_uri": "https://localhost:8080/",
          "height": 268
        },
        "id": "VrR_iYkrbfJg",
        "outputId": "75ca2b98-3544-41b4-831b-7e67039b0197"
      },
      "execution_count": null,
      "outputs": [
        {
          "output_type": "execute_result",
          "data": {
            "text/plain": [
              "   Gender    Age   Debt  Married  BankCustomer Ethnicity  YearsEmployed  \\\n",
              "0       1  30.83  0.000        1             1     White           1.25   \n",
              "1       0  58.67  4.460        1             1     Black           3.04   \n",
              "2       0  24.50  0.500        1             1     Black           1.50   \n",
              "3       1  27.83  1.540        1             1     White           3.75   \n",
              "4       1  20.17  5.625        1             1     White           1.71   \n",
              "\n",
              "   PriorDefault  Employed  CreditScore  DriversLicense       Citizen  Income  \n",
              "0             1         1            1               0       ByBirth       0  \n",
              "1             1         1            6               0       ByBirth     560  \n",
              "2             1         0            0               0       ByBirth     824  \n",
              "3             1         1            5               1       ByBirth       3  \n",
              "4             1         0            0               0  ByOtherMeans       0  "
            ],
            "text/html": [
              "\n",
              "  <div id=\"df-f78c5945-6a16-4d6b-b9dd-9b2064e7bd6e\">\n",
              "    <div class=\"colab-df-container\">\n",
              "      <div>\n",
              "<style scoped>\n",
              "    .dataframe tbody tr th:only-of-type {\n",
              "        vertical-align: middle;\n",
              "    }\n",
              "\n",
              "    .dataframe tbody tr th {\n",
              "        vertical-align: top;\n",
              "    }\n",
              "\n",
              "    .dataframe thead th {\n",
              "        text-align: right;\n",
              "    }\n",
              "</style>\n",
              "<table border=\"1\" class=\"dataframe\">\n",
              "  <thead>\n",
              "    <tr style=\"text-align: right;\">\n",
              "      <th></th>\n",
              "      <th>Gender</th>\n",
              "      <th>Age</th>\n",
              "      <th>Debt</th>\n",
              "      <th>Married</th>\n",
              "      <th>BankCustomer</th>\n",
              "      <th>Ethnicity</th>\n",
              "      <th>YearsEmployed</th>\n",
              "      <th>PriorDefault</th>\n",
              "      <th>Employed</th>\n",
              "      <th>CreditScore</th>\n",
              "      <th>DriversLicense</th>\n",
              "      <th>Citizen</th>\n",
              "      <th>Income</th>\n",
              "    </tr>\n",
              "  </thead>\n",
              "  <tbody>\n",
              "    <tr>\n",
              "      <th>0</th>\n",
              "      <td>1</td>\n",
              "      <td>30.83</td>\n",
              "      <td>0.000</td>\n",
              "      <td>1</td>\n",
              "      <td>1</td>\n",
              "      <td>White</td>\n",
              "      <td>1.25</td>\n",
              "      <td>1</td>\n",
              "      <td>1</td>\n",
              "      <td>1</td>\n",
              "      <td>0</td>\n",
              "      <td>ByBirth</td>\n",
              "      <td>0</td>\n",
              "    </tr>\n",
              "    <tr>\n",
              "      <th>1</th>\n",
              "      <td>0</td>\n",
              "      <td>58.67</td>\n",
              "      <td>4.460</td>\n",
              "      <td>1</td>\n",
              "      <td>1</td>\n",
              "      <td>Black</td>\n",
              "      <td>3.04</td>\n",
              "      <td>1</td>\n",
              "      <td>1</td>\n",
              "      <td>6</td>\n",
              "      <td>0</td>\n",
              "      <td>ByBirth</td>\n",
              "      <td>560</td>\n",
              "    </tr>\n",
              "    <tr>\n",
              "      <th>2</th>\n",
              "      <td>0</td>\n",
              "      <td>24.50</td>\n",
              "      <td>0.500</td>\n",
              "      <td>1</td>\n",
              "      <td>1</td>\n",
              "      <td>Black</td>\n",
              "      <td>1.50</td>\n",
              "      <td>1</td>\n",
              "      <td>0</td>\n",
              "      <td>0</td>\n",
              "      <td>0</td>\n",
              "      <td>ByBirth</td>\n",
              "      <td>824</td>\n",
              "    </tr>\n",
              "    <tr>\n",
              "      <th>3</th>\n",
              "      <td>1</td>\n",
              "      <td>27.83</td>\n",
              "      <td>1.540</td>\n",
              "      <td>1</td>\n",
              "      <td>1</td>\n",
              "      <td>White</td>\n",
              "      <td>3.75</td>\n",
              "      <td>1</td>\n",
              "      <td>1</td>\n",
              "      <td>5</td>\n",
              "      <td>1</td>\n",
              "      <td>ByBirth</td>\n",
              "      <td>3</td>\n",
              "    </tr>\n",
              "    <tr>\n",
              "      <th>4</th>\n",
              "      <td>1</td>\n",
              "      <td>20.17</td>\n",
              "      <td>5.625</td>\n",
              "      <td>1</td>\n",
              "      <td>1</td>\n",
              "      <td>White</td>\n",
              "      <td>1.71</td>\n",
              "      <td>1</td>\n",
              "      <td>0</td>\n",
              "      <td>0</td>\n",
              "      <td>0</td>\n",
              "      <td>ByOtherMeans</td>\n",
              "      <td>0</td>\n",
              "    </tr>\n",
              "  </tbody>\n",
              "</table>\n",
              "</div>\n",
              "      <button class=\"colab-df-convert\" onclick=\"convertToInteractive('df-f78c5945-6a16-4d6b-b9dd-9b2064e7bd6e')\"\n",
              "              title=\"Convert this dataframe to an interactive table.\"\n",
              "              style=\"display:none;\">\n",
              "        \n",
              "  <svg xmlns=\"http://www.w3.org/2000/svg\" height=\"24px\"viewBox=\"0 0 24 24\"\n",
              "       width=\"24px\">\n",
              "    <path d=\"M0 0h24v24H0V0z\" fill=\"none\"/>\n",
              "    <path d=\"M18.56 5.44l.94 2.06.94-2.06 2.06-.94-2.06-.94-.94-2.06-.94 2.06-2.06.94zm-11 1L8.5 8.5l.94-2.06 2.06-.94-2.06-.94L8.5 2.5l-.94 2.06-2.06.94zm10 10l.94 2.06.94-2.06 2.06-.94-2.06-.94-.94-2.06-.94 2.06-2.06.94z\"/><path d=\"M17.41 7.96l-1.37-1.37c-.4-.4-.92-.59-1.43-.59-.52 0-1.04.2-1.43.59L10.3 9.45l-7.72 7.72c-.78.78-.78 2.05 0 2.83L4 21.41c.39.39.9.59 1.41.59.51 0 1.02-.2 1.41-.59l7.78-7.78 2.81-2.81c.8-.78.8-2.07 0-2.86zM5.41 20L4 18.59l7.72-7.72 1.47 1.35L5.41 20z\"/>\n",
              "  </svg>\n",
              "      </button>\n",
              "      \n",
              "  <style>\n",
              "    .colab-df-container {\n",
              "      display:flex;\n",
              "      flex-wrap:wrap;\n",
              "      gap: 12px;\n",
              "    }\n",
              "\n",
              "    .colab-df-convert {\n",
              "      background-color: #E8F0FE;\n",
              "      border: none;\n",
              "      border-radius: 50%;\n",
              "      cursor: pointer;\n",
              "      display: none;\n",
              "      fill: #1967D2;\n",
              "      height: 32px;\n",
              "      padding: 0 0 0 0;\n",
              "      width: 32px;\n",
              "    }\n",
              "\n",
              "    .colab-df-convert:hover {\n",
              "      background-color: #E2EBFA;\n",
              "      box-shadow: 0px 1px 2px rgba(60, 64, 67, 0.3), 0px 1px 3px 1px rgba(60, 64, 67, 0.15);\n",
              "      fill: #174EA6;\n",
              "    }\n",
              "\n",
              "    [theme=dark] .colab-df-convert {\n",
              "      background-color: #3B4455;\n",
              "      fill: #D2E3FC;\n",
              "    }\n",
              "\n",
              "    [theme=dark] .colab-df-convert:hover {\n",
              "      background-color: #434B5C;\n",
              "      box-shadow: 0px 1px 3px 1px rgba(0, 0, 0, 0.15);\n",
              "      filter: drop-shadow(0px 1px 2px rgba(0, 0, 0, 0.3));\n",
              "      fill: #FFFFFF;\n",
              "    }\n",
              "  </style>\n",
              "\n",
              "      <script>\n",
              "        const buttonEl =\n",
              "          document.querySelector('#df-f78c5945-6a16-4d6b-b9dd-9b2064e7bd6e button.colab-df-convert');\n",
              "        buttonEl.style.display =\n",
              "          google.colab.kernel.accessAllowed ? 'block' : 'none';\n",
              "\n",
              "        async function convertToInteractive(key) {\n",
              "          const element = document.querySelector('#df-f78c5945-6a16-4d6b-b9dd-9b2064e7bd6e');\n",
              "          const dataTable =\n",
              "            await google.colab.kernel.invokeFunction('convertToInteractive',\n",
              "                                                     [key], {});\n",
              "          if (!dataTable) return;\n",
              "\n",
              "          const docLinkHtml = 'Like what you see? Visit the ' +\n",
              "            '<a target=\"_blank\" href=https://colab.research.google.com/notebooks/data_table.ipynb>data table notebook</a>'\n",
              "            + ' to learn more about interactive tables.';\n",
              "          element.innerHTML = '';\n",
              "          dataTable['output_type'] = 'display_data';\n",
              "          await google.colab.output.renderOutput(dataTable, element);\n",
              "          const docLink = document.createElement('div');\n",
              "          docLink.innerHTML = docLinkHtml;\n",
              "          element.appendChild(docLink);\n",
              "        }\n",
              "      </script>\n",
              "    </div>\n",
              "  </div>\n",
              "  "
            ]
          },
          "metadata": {},
          "execution_count": 1147
        }
      ]
    },
    {
      "cell_type": "code",
      "source": [
        "# Define the Colomn Selector\n",
        "\n",
        "num_selector = make_column_selector(dtype_include= 'number')\n",
        "cat_selector = make_column_selector(dtype_include= 'object')"
      ],
      "metadata": {
        "id": "JfI1lXCHz3b5"
      },
      "execution_count": null,
      "outputs": []
    },
    {
      "cell_type": "code",
      "source": [
        "# Define the scaler and OneHotEncoder\n",
        "\n",
        "scaler = StandardScaler()\n",
        "\n",
        "ohe =  OneHotEncoder(sparse= False, handle_unknown= 'ignore')"
      ],
      "metadata": {
        "id": "ILOHNId8w07j"
      },
      "execution_count": null,
      "outputs": []
    },
    {
      "cell_type": "code",
      "source": [
        "# Create appropriate pipelines\n",
        "\n",
        "num_pipe = make_pipeline(scaler)\n",
        "cat_pipe = make_pipeline(ohe)"
      ],
      "metadata": {
        "id": "BGA55Hys2ywM"
      },
      "execution_count": null,
      "outputs": []
    },
    {
      "cell_type": "code",
      "source": [
        "# Fit the pipelines and coloumn selectors in a tuple\n",
        "\n",
        "num_tuple = (num_pipe, num_selector)\n",
        "cat_tuple = (cat_pipe, cat_selector) "
      ],
      "metadata": {
        "id": "MtK4hll82MfW"
      },
      "execution_count": null,
      "outputs": []
    },
    {
      "cell_type": "code",
      "source": [
        "# Fit the tuples into the column transformer\n",
        "\n",
        "preprocessor = make_column_transformer(num_tuple, cat_tuple)\n",
        "preprocessor"
      ],
      "metadata": {
        "colab": {
          "base_uri": "https://localhost:8080/"
        },
        "id": "wIkT13Hr2MU8",
        "outputId": "aeb769fe-24bf-4722-9c54-5e0aac93d6c8"
      },
      "execution_count": null,
      "outputs": [
        {
          "output_type": "execute_result",
          "data": {
            "text/plain": [
              "ColumnTransformer(transformers=[('pipeline-1',\n",
              "                                 Pipeline(steps=[('standardscaler',\n",
              "                                                  StandardScaler())]),\n",
              "                                 <sklearn.compose._column_transformer.make_column_selector object at 0x7efd48f80210>),\n",
              "                                ('pipeline-2',\n",
              "                                 Pipeline(steps=[('onehotencoder',\n",
              "                                                  OneHotEncoder(handle_unknown='ignore',\n",
              "                                                                sparse=False))]),\n",
              "                                 <sklearn.compose._column_transformer.make_column_selector object at 0x7efd48f23cd0>)])"
            ]
          },
          "metadata": {},
          "execution_count": 1152
        }
      ]
    },
    {
      "cell_type": "markdown",
      "source": [
        "# UNIVARIANT DATA VISUALIZATION"
      ],
      "metadata": {
        "id": "mYo5MaVVdJXo"
      }
    },
    {
      "cell_type": "code",
      "source": [
        "# Histogram showing Gender\n",
        "\n",
        "plt.hist(X['Gender'],\n",
        "         edgecolor= 'Black');\n",
        "\n",
        "plt.title('Gender of Credit Card Applicants');\n",
        "plt.xlabel('Gender');\n",
        "plt.ylabel('Number of People');\n",
        "\n",
        "plt.xticks([0,1],['Female', 'Male']);"
      ],
      "metadata": {
        "colab": {
          "base_uri": "https://localhost:8080/",
          "height": 295
        },
        "id": "HnBEe_OdiF_a",
        "outputId": "ceced0bb-6e21-462a-e5cf-fa6044a60087"
      },
      "execution_count": null,
      "outputs": [
        {
          "output_type": "display_data",
          "data": {
            "text/plain": [
              "<Figure size 432x288 with 1 Axes>"
            ],
            "image/png": "[encoded data removed]"
          },
          "metadata": {
            "needs_background": "light"
          }
        }
      ]
    },
    {
      "cell_type": "markdown",
      "source": [
        "This graph shows us that we have more male clients than female, which may possibly create a bias when determining approval for credit cards"
      ],
      "metadata": {
        "id": "c9p8Agzk4y__"
      }
    },
    {
      "cell_type": "code",
      "source": [
        "# Histogram showing Age of Applicants\n",
        "\n",
        "plt.hist(X['Age'],\n",
        "         edgecolor= 'Black',\n",
        "         bins= 'auto');\n",
        "\n",
        "plt.title('Age of Credit Card Applicants')\n",
        "plt.xlabel('Age')\n",
        "plt.ylabel('Number of People')\n"
      ],
      "metadata": {
        "colab": {
          "base_uri": "https://localhost:8080/",
          "height": 313
        },
        "id": "8r-WQYVmensI",
        "outputId": "24b7810a-747b-4735-ef02-4d7eec4bb30f"
      },
      "execution_count": null,
      "outputs": [
        {
          "output_type": "execute_result",
          "data": {
            "text/plain": [
              "Text(0, 0.5, 'Number of People')"
            ]
          },
          "metadata": {},
          "execution_count": 1154
        },
        {
          "output_type": "display_data",
          "data": {
            "text/plain": [
              "<Figure size 432x288 with 1 Axes>"
            ],
            "image/png": "[encoded data removed]"
          },
          "metadata": {
            "needs_background": "light"
          }
        }
      ]
    },
    {
      "cell_type": "markdown",
      "source": [
        "This graph shows us that majority of the applicant age is under 60 with a few outliers over the age of 70"
      ],
      "metadata": {
        "id": "s31u7r9D5YRI"
      }
    },
    {
      "cell_type": "code",
      "source": [
        "# Histogram showing Debt of Applicants\n",
        "\n",
        "plt.hist(df['Debt'],\n",
        "         edgecolor= 'Black',\n",
        "         bins= 'auto')\n",
        "\n",
        "plt.title('Debt of Credit Card Applicants')\n",
        "plt.xlabel('Debt in ($)')\n",
        "plt.ylabel('Number of People')"
      ],
      "metadata": {
        "colab": {
          "base_uri": "https://localhost:8080/",
          "height": 313
        },
        "id": "MDyIG6W2gufI",
        "outputId": "cd0cebd4-b0ce-40c8-9916-1ef12f3d21e3"
      },
      "execution_count": null,
      "outputs": [
        {
          "output_type": "execute_result",
          "data": {
            "text/plain": [
              "Text(0, 0.5, 'Number of People')"
            ]
          },
          "metadata": {},
          "execution_count": 1155
        },
        {
          "output_type": "display_data",
          "data": {
            "text/plain": [
              "<Figure size 432x288 with 1 Axes>"
            ],
            "image/png": "[encoded data removed]"
          },
          "metadata": {
            "needs_background": "light"
          }
        }
      ]
    },
    {
      "cell_type": "markdown",
      "source": [
        "This graph shows us that most applicants have debt under 15 dollars with a few outliers over 25 dollars"
      ],
      "metadata": {
        "id": "KoWuq6AE6D96"
      }
    },
    {
      "cell_type": "code",
      "source": [
        "# Histogram showing Married\n",
        "\n",
        "plt.hist(X['Married'],\n",
        "         edgecolor= 'Black');\n",
        "\n",
        "plt.title('Gender of Credit Card Applicants');\n",
        "plt.xlabel('Single or Married');\n",
        "plt.ylabel('Number of People');\n",
        "\n",
        "plt.xticks([0,1],['Single', 'Married']);"
      ],
      "metadata": {
        "id": "ZIQfOg1Mex4j",
        "colab": {
          "base_uri": "https://localhost:8080/",
          "height": 295
        },
        "outputId": "459818d1-e110-424e-b9c1-07dc1a715496"
      },
      "execution_count": null,
      "outputs": [
        {
          "output_type": "display_data",
          "data": {
            "text/plain": [
              "<Figure size 432x288 with 1 Axes>"
            ],
            "image/png": "[encoded data removed]"
          },
          "metadata": {
            "needs_background": "light"
          }
        }
      ]
    },
    {
      "cell_type": "markdown",
      "source": [
        "This data shows us whether or not the applicants are married or single. We can see that most of the applicants are married and therefore there may be a bias towards married when making predictions for approval"
      ],
      "metadata": {
        "id": "iL2dvh136mtc"
      }
    },
    {
      "cell_type": "code",
      "source": [
        "# Histogram showing whether or not an applicant has a bank account\n",
        "\n",
        "plt.hist(X['BankCustomer'],\n",
        "         edgecolor= 'Black');\n",
        "\n",
        "plt.title('Bank Account Ownership');\n",
        "plt.xlabel('Bank Account');\n",
        "plt.ylabel('Number of People');\n",
        "\n",
        "plt.xticks([0,1],['No', 'Yes']);"
      ],
      "metadata": {
        "colab": {
          "base_uri": "https://localhost:8080/",
          "height": 295
        },
        "id": "OlCb7EU2oZ80",
        "outputId": "fc94e1be-989e-4130-e792-d0ea2c62fc78"
      },
      "execution_count": null,
      "outputs": [
        {
          "output_type": "display_data",
          "data": {
            "text/plain": [
              "<Figure size 432x288 with 1 Axes>"
            ],
            "image/png": "[encoded data removed]"
          },
          "metadata": {
            "needs_background": "light"
          }
        }
      ]
    },
    {
      "cell_type": "markdown",
      "source": [
        "This graph shows us whether or not the applicants have a bank account. The data here is skewed towards yes and therefore may have a bias towards it. "
      ],
      "metadata": {
        "id": "2JLwIdiQ7QtU"
      }
    },
    {
      "cell_type": "code",
      "source": [
        "# Histogram showing Ethnicity\n",
        "\n",
        "plt.hist(X['Ethnicity'],\n",
        "         edgecolor= 'Black');\n",
        "\n",
        "plt.title('Ethnicity of Credit Card Applicants');\n",
        "plt.xlabel('Ethnicity');\n",
        "plt.ylabel('Number of People');\n",
        "\n"
      ],
      "metadata": {
        "colab": {
          "base_uri": "https://localhost:8080/",
          "height": 295
        },
        "id": "cHFKTTxHqAUe",
        "outputId": "4b05d23e-408d-4440-f900-3ebdf0d16cd6"
      },
      "execution_count": null,
      "outputs": [
        {
          "output_type": "display_data",
          "data": {
            "text/plain": [
              "<Figure size 432x288 with 1 Axes>"
            ],
            "image/png": "[encoded data removed]"
          },
          "metadata": {
            "needs_background": "light"
          }
        }
      ]
    },
    {
      "cell_type": "markdown",
      "source": [
        "This graph shows us the diversity of applicants based on their Ethnicity. This dataset shows us that most of clients are caucasian or african american and therefore may have a bias towards those two ethnicities when predicting for approval."
      ],
      "metadata": {
        "id": "8_9rn-0x72LW"
      }
    },
    {
      "cell_type": "code",
      "source": [
        "# Histogram showing Years of Emplyment\n",
        "\n",
        "plt.hist(X['YearsEmployed'],\n",
        "         edgecolor= 'Black');\n",
        "\n",
        "plt.title('Years of Employment of Credit Card Applicants');\n",
        "plt.xlabel('Years');\n",
        "plt.ylabel('Number of People');\n"
      ],
      "metadata": {
        "colab": {
          "base_uri": "https://localhost:8080/",
          "height": 295
        },
        "id": "Duejp_7cqe41",
        "outputId": "997ccad4-d89e-450e-d14c-46835724c90f"
      },
      "execution_count": null,
      "outputs": [
        {
          "output_type": "display_data",
          "data": {
            "text/plain": [
              "<Figure size 432x288 with 1 Axes>"
            ],
            "image/png": "[encoded data removed]"
          },
          "metadata": {
            "needs_background": "light"
          }
        }
      ]
    },
    {
      "cell_type": "markdown",
      "source": [
        "This graph shows us that most of the applicants are fairly newly employed with a few outliers with that have been employed over 20 years"
      ],
      "metadata": {
        "id": "14M7xsOk-5ia"
      }
    },
    {
      "cell_type": "code",
      "source": [
        "# Histogram showing Prior Default\n",
        "\n",
        "plt.hist(X['PriorDefault'],\n",
        "         edgecolor= 'Black');\n",
        "\n",
        "plt.title('Default Satatus of Credit Card Applicants');\n",
        "plt.xlabel('Prior Default');\n",
        "plt.ylabel('Number of People');\n",
        "\n",
        "plt.xticks([0,1],['No', 'Yes']);"
      ],
      "metadata": {
        "colab": {
          "base_uri": "https://localhost:8080/",
          "height": 295
        },
        "id": "UI47g-XRq6_s",
        "outputId": "6f5f6ffd-e875-4128-d626-54065502d3a1"
      },
      "execution_count": null,
      "outputs": [
        {
          "output_type": "display_data",
          "data": {
            "text/plain": [
              "<Figure size 432x288 with 1 Axes>"
            ],
            "image/png": "[encoded data removed]"
          },
          "metadata": {
            "needs_background": "light"
          }
        }
      ]
    },
    {
      "cell_type": "markdown",
      "source": [
        "This shows us that we have the applicants who have defaulted a payment vs those that have not, is weighted pretty evenly. No bias here"
      ],
      "metadata": {
        "id": "EUBtBvQo_UBh"
      }
    },
    {
      "cell_type": "code",
      "source": [
        "# Histogram showing if applicants are Employed\n",
        "\n",
        "plt.hist(X['Employed'],\n",
        "         edgecolor= 'Black');\n",
        "\n",
        "plt.title('Employment Status of Credit Card Applicants');\n",
        "plt.xlabel('Employed');\n",
        "plt.ylabel('Number of People');\n",
        "\n",
        "plt.xticks([0,1],['No', 'Yes']);"
      ],
      "metadata": {
        "colab": {
          "base_uri": "https://localhost:8080/",
          "height": 295
        },
        "id": "415Y1ZcKraL_",
        "outputId": "d85b8393-2982-424d-caa8-f36b9e29b72e"
      },
      "execution_count": null,
      "outputs": [
        {
          "output_type": "display_data",
          "data": {
            "text/plain": [
              "<Figure size 432x288 with 1 Axes>"
            ],
            "image/png": "[encoded data removed]"
          },
          "metadata": {
            "needs_background": "light"
          }
        }
      ]
    },
    {
      "cell_type": "markdown",
      "source": [
        "This shows us that more applicants are unemployed than employed. May skew bias slightly when predicting for approval."
      ],
      "metadata": {
        "id": "FAbeJBBgAg1K"
      }
    },
    {
      "cell_type": "code",
      "source": [
        "# Histogram showing Credit Score\n",
        "\n",
        "plt.hist(X['CreditScore'],\n",
        "         edgecolor= 'Black');\n",
        "\n",
        "plt.title('Credit Score of Credit Card Applicants');\n",
        "plt.xlabel('Credit Score');\n",
        "plt.ylabel('Number of People');"
      ],
      "metadata": {
        "colab": {
          "base_uri": "https://localhost:8080/",
          "height": 295
        },
        "id": "zPfYIxewrzqn",
        "outputId": "b0d17db6-917b-41cf-9375-5d973130c9bd"
      },
      "execution_count": null,
      "outputs": [
        {
          "output_type": "display_data",
          "data": {
            "text/plain": [
              "<Figure size 432x288 with 1 Axes>"
            ],
            "image/png": "[encoded data removed]"
          },
          "metadata": {
            "needs_background": "light"
          }
        }
      ]
    },
    {
      "cell_type": "markdown",
      "source": [
        "This graph shows us that majority of our data set has a low credit score. "
      ],
      "metadata": {
        "id": "nw287vWSMpiP"
      }
    },
    {
      "cell_type": "code",
      "source": [
        "# Histogram showing if applicants have a Drivers License\n",
        "\n",
        "plt.hist(X['DriversLicense'],\n",
        "         edgecolor= 'Black');\n",
        "\n",
        "plt.title('Drivers License Status of Credit Card Applicants');\n",
        "plt.xlabel('Drivers License');\n",
        "plt.ylabel('Number of People');\n",
        "\n",
        "plt.xticks([0,1],['No', 'Yes']);"
      ],
      "metadata": {
        "colab": {
          "base_uri": "https://localhost:8080/",
          "height": 295
        },
        "id": "MHr2_sJxsm0B",
        "outputId": "1cadbd61-76a7-4a66-d285-e0d185d1e15e"
      },
      "execution_count": null,
      "outputs": [
        {
          "output_type": "display_data",
          "data": {
            "text/plain": [
              "<Figure size 432x288 with 1 Axes>"
            ],
            "image/png": "[encoded data removed]"
          },
          "metadata": {
            "needs_background": "light"
          }
        }
      ]
    },
    {
      "cell_type": "markdown",
      "source": [
        "This graph shows us that the data is pretty balanced on whether or not the applicants have a drivers license"
      ],
      "metadata": {
        "id": "1ALwHiwsM4oh"
      }
    },
    {
      "cell_type": "code",
      "source": [
        "# Histogram showing if applicants are Citizens\n",
        "\n",
        "plt.hist(X['Citizen'],\n",
        "         edgecolor= 'Black');\n",
        "\n",
        "plt.title('Citizenship Status of Credit Card Applicants');\n",
        "plt.xlabel('Citizenship Status');\n",
        "plt.ylabel('Number of People');\n",
        "\n"
      ],
      "metadata": {
        "colab": {
          "base_uri": "https://localhost:8080/",
          "height": 295
        },
        "id": "bHddAIPqtRkJ",
        "outputId": "e7058a9f-96f8-48c8-8bc0-21917949f8c7"
      },
      "execution_count": null,
      "outputs": [
        {
          "output_type": "display_data",
          "data": {
            "text/plain": [
              "<Figure size 432x288 with 1 Axes>"
            ],
            "image/png": "[encoded data removed]"
          },
          "metadata": {
            "needs_background": "light"
          }
        }
      ]
    },
    {
      "cell_type": "markdown",
      "source": [
        "This graph shows us that the data is very highly skewed towards applicants who obtained their citizenship by birth. This could influence a bias towards that when predicting for approval."
      ],
      "metadata": {
        "id": "ubN3E7k8Pdvp"
      }
    },
    {
      "cell_type": "code",
      "source": [
        "# Histogram showing Income of Applicants\n",
        "\n",
        "plt.hist(X['Income'],\n",
        "         edgecolor= 'Black');\n",
        "\n",
        "plt.title('Income of Credit Card Applicants');\n",
        "plt.xlabel('Income');\n",
        "plt.ylabel('Number of People');\n"
      ],
      "metadata": {
        "colab": {
          "base_uri": "https://localhost:8080/",
          "height": 295
        },
        "id": "WWDgksz3tSOA",
        "outputId": "aaf514de-0152-4e38-c662-d9b6759dfba1"
      },
      "execution_count": null,
      "outputs": [
        {
          "output_type": "display_data",
          "data": {
            "text/plain": [
              "<Figure size 432x288 with 1 Axes>"
            ],
            "image/png": "[encoded data removed]"
          },
          "metadata": {
            "needs_background": "light"
          }
        }
      ]
    },
    {
      "cell_type": "markdown",
      "source": [
        "This graph shows the income of applicants. There seems to be a very high bias towards people earning less than 20,000 dollars. This may influence the predictions on approval."
      ],
      "metadata": {
        "id": "A1ibbaO1QXIu"
      }
    },
    {
      "cell_type": "code",
      "source": [
        "# Histogram showing if applicants are Approved\n",
        "\n",
        "plt.hist(y,\n",
        "         edgecolor= 'Black');\n",
        "\n",
        "plt.title('Employment Datatus of Credit Card Applicants');\n",
        "plt.xlabel('Approved');\n",
        "plt.ylabel('Number of People');\n",
        "\n",
        "plt.xticks([0,1],['No', 'Yes']);"
      ],
      "metadata": {
        "colab": {
          "base_uri": "https://localhost:8080/",
          "height": 295
        },
        "id": "_yWPAfd9u1PW",
        "outputId": "a8eb3d93-af7a-462e-e4fe-133d4edc284b"
      },
      "execution_count": null,
      "outputs": [
        {
          "output_type": "display_data",
          "data": {
            "text/plain": [
              "<Figure size 432x288 with 1 Axes>"
            ],
            "image/png": "[encoded data removed]"
          },
          "metadata": {
            "needs_background": "light"
          }
        }
      ]
    },
    {
      "cell_type": "markdown",
      "source": [
        "This graph shows us that more people got denied for a credit card than approved. "
      ],
      "metadata": {
        "id": "sv9Zkrq3RAyN"
      }
    },
    {
      "cell_type": "markdown",
      "source": [
        "# CORRELATION GRAPH"
      ],
      "metadata": {
        "id": "bJCqYDsNb-sR"
      }
    },
    {
      "cell_type": "code",
      "source": [
        "# Correlate the data\n",
        "\n",
        "corr = df.corr().round(2)"
      ],
      "metadata": {
        "id": "SIhGjeifb_pz"
      },
      "execution_count": null,
      "outputs": []
    },
    {
      "cell_type": "code",
      "source": [
        "# Make a heatmap\n",
        "plt.figure(figsize= (10,10))\n",
        "sns.heatmap(corr, cmap = 'YlGnBu', annot= True);\n",
        "plt.figure(figsize = (10,8))"
      ],
      "metadata": {
        "colab": {
          "base_uri": "https://localhost:8080/",
          "height": 697
        },
        "id": "kjj6V-ffdaPG",
        "outputId": "adf524b3-3f3f-4753-e050-b721cc9be439"
      },
      "execution_count": null,
      "outputs": [
        {
          "output_type": "execute_result",
          "data": {
            "text/plain": [
              "<Figure size 720x576 with 0 Axes>"
            ]
          },
          "metadata": {},
          "execution_count": 1188
        },
        {
          "output_type": "display_data",
          "data": {
            "text/plain": [
              "<Figure size 720x720 with 2 Axes>"
            ],
            "image/png": "[encoded data removed]"
          },
          "metadata": {
            "needs_background": "light"
          }
        },
        {
          "output_type": "display_data",
          "data": {
            "text/plain": [
              "<Figure size 720x576 with 0 Axes>"
            ]
          },
          "metadata": {}
        }
      ]
    },
    {
      "cell_type": "markdown",
      "source": [
        "This heat map shows the correlation within the data. Strong correlations are shown by the blues, weak corrrelations are shown in yellow. This graph shows us that there is a strong correlation between 'Credit Score' and whether or not a person is 'Employed'. There is also a strong correlation between 'Approval' and 'Prior Default'. This means that when we predict for approval, there will be bias present based on whether or not a person has a prior default."
      ],
      "metadata": {
        "id": "HDjiKcbfhOey"
      }
    },
    {
      "cell_type": "markdown",
      "source": [
        "# MULTIVARIANT EXPLORATORY VISUALIZATION"
      ],
      "metadata": {
        "id": "ok2d1nXplezy"
      }
    },
    {
      "cell_type": "code",
      "source": [
        ""
      ],
      "metadata": {
        "id": "NtPjQed_2UpO"
      },
      "execution_count": null,
      "outputs": []
    },
    {
      "cell_type": "code",
      "source": [
        "# Approval based on Prior Defaults\n",
        "\n",
        "plt.figure(figsize=(10,8))\n",
        "ax = sns.lineplot(X['PriorDefault'],y,\n",
        "                   ci= 0,\n",
        "                   hue= X['Citizen']);\n",
        "\n",
        "plt.title('Credit Card Approval by Prior Default based on Citizenship Status', fontsize= 16);\n",
        "plt.xlabel('Prior Default', fontsize= 14);\n",
        "plt.ylabel('Approved', fontsize= 14);\n",
        "plt.xticks([0,1],['No','Yes']);\n",
        "plt.yticks([0,1],['No','Yes']);\n"
      ],
      "metadata": {
        "colab": {
          "base_uri": "https://localhost:8080/",
          "height": 575
        },
        "id": "bdoI12Q_gf7A",
        "outputId": "e464bf9c-db71-43ec-d4c7-1ae95e2e523e"
      },
      "execution_count": null,
      "outputs": [
        {
          "output_type": "stream",
          "name": "stderr",
          "text": [
            "/usr/local/lib/python3.7/dist-packages/seaborn/_decorators.py:43: FutureWarning: Pass the following variables as keyword args: x, y. From version 0.12, the only valid positional argument will be `data`, and passing other arguments without an explicit keyword will result in an error or misinterpretation.\n",
            "  FutureWarning\n"
          ]
        },
        {
          "output_type": "display_data",
          "data": {
            "text/plain": [
              "<Figure size 720x576 with 1 Axes>"
            ],
            "image/png": "[encoded data removed]"
          },
          "metadata": {
            "needs_background": "light"
          }
        }
      ]
    },
    {
      "cell_type": "markdown",
      "source": [
        "This line graph shows us most applicants with a prior default have a good chance getting a credit card approved. It also indicates that if you have no prior default, chances of denial are also low.\n",
        "\n",
        "However, the graph shows that applicants with a prior default who achieve their citizenship by birth have a higher chance of being approved than those who achieve their citizenship through other means. This is indicative by the difference in sample size between the three categories conducted in the univariant analysis of 'Citizen' column."
      ],
      "metadata": {
        "id": "hESikoL845At"
      }
    },
    {
      "cell_type": "code",
      "source": [
        "# Aproval based on Gender and Ethnicity\n",
        "\n",
        "plt.figure(figsize=(10,8))\n",
        "ax = sns.barplot(X['Gender'], y,\n",
        "                 ci= 0,\n",
        "                 hue= X['Ethnicity']);\n",
        "\n",
        "plt.title('Approval Based on Gender and Ethnicity', fontsize= 16);\n",
        "plt.xlabel('Gender', fontsize= 16);\n",
        "plt.ylabel('Approval', fontsize= 16);\n",
        "plt.yticks([0,1],['Denied', 'Approved']);\n",
        "plt.xticks([0,1],['Female', 'Male']);"
      ],
      "metadata": {
        "colab": {
          "base_uri": "https://localhost:8080/",
          "height": 576
        },
        "id": "Ye3PTNRqJY_1",
        "outputId": "d53de1fb-7198-4ad0-a696-422f1d325123"
      },
      "execution_count": null,
      "outputs": [
        {
          "output_type": "stream",
          "name": "stderr",
          "text": [
            "/usr/local/lib/python3.7/dist-packages/seaborn/_decorators.py:43: FutureWarning: Pass the following variables as keyword args: x, y. From version 0.12, the only valid positional argument will be `data`, and passing other arguments without an explicit keyword will result in an error or misinterpretation.\n",
            "  FutureWarning\n"
          ]
        },
        {
          "output_type": "display_data",
          "data": {
            "text/plain": [
              "<Figure size 720x576 with 1 Axes>"
            ],
            "image/png": "[encoded data removed]"
          },
          "metadata": {
            "needs_background": "light"
          }
        }
      ]
    },
    {
      "cell_type": "markdown",
      "source": [
        "This Bar Chart shows us the approval of applicants based on their Gender and ethnicity. It indicates that women are more likely to get approved than men in most ethnic groups except for 1.\n",
        "\n",
        "It also indicates that Latinos are significantly less likely to be approved than other ethnicitied. This could form a bias when predicting for approval as the dataset does not contain a big enough sample for Latinos as observed in the univariable analysis if the  'Ethnicity' Column."
      ],
      "metadata": {
        "id": "_j7ymc20wL-m"
      }
    },
    {
      "cell_type": "code",
      "source": [
        "# Credit Score based on Gender and Ethnicity\n",
        "\n",
        "plt.figure(figsize=(10,8))\n",
        "ax = sns.barplot(X['Gender'], X['CreditScore'],\n",
        "                 ci= 0,\n",
        "                 hue= X['Ethnicity']);\n",
        "\n",
        "plt.title('Credit Score Based on Gender and Ethnicity', fontsize= 16);\n",
        "plt.xlabel('Gender', fontsize= 14);\n",
        "plt.ylabel('Credit Score', fontsize= 14);\n",
        "plt.xticks([0,1],['Female', 'Male']);"
      ],
      "metadata": {
        "colab": {
          "base_uri": "https://localhost:8080/",
          "height": 575
        },
        "id": "EINihUGTJQdh",
        "outputId": "b36f61c6-4989-4044-dd45-007b4a6f08cb"
      },
      "execution_count": 1264,
      "outputs": [
        {
          "output_type": "stream",
          "name": "stderr",
          "text": [
            "/usr/local/lib/python3.7/dist-packages/seaborn/_decorators.py:43: FutureWarning: Pass the following variables as keyword args: x, y. From version 0.12, the only valid positional argument will be `data`, and passing other arguments without an explicit keyword will result in an error or misinterpretation.\n",
            "  FutureWarning\n"
          ]
        },
        {
          "output_type": "display_data",
          "data": {
            "text/plain": [
              "<Figure size 720x576 with 1 Axes>"
            ],
            "image/png": "[encoded data removed]"
          },
          "metadata": {
            "needs_background": "light"
          }
        }
      ]
    },
    {
      "cell_type": "markdown",
      "source": [
        "This barchart shows us the Credit Score of applicants based on their Gender and Ethnicity. It illustrates that out of all ethnicities, Black and Asian applicants have the highest credit scores, with women on average having a higher credit score than men.  "
      ],
      "metadata": {
        "id": "7ticCpaby56C"
      }
    },
    {
      "cell_type": "markdown",
      "source": [
        "# STAKEHOLDER VISUALIZATION"
      ],
      "metadata": {
        "id": "DKi1WfWo-5kV"
      }
    },
    {
      "cell_type": "code",
      "source": [
        "# Approval Based in Income and Prior Default\n",
        "\n",
        "p = {0: 'No',\n",
        "     1: 'Yes'}\n",
        "\n",
        "priordefault = X['PriorDefault'].replace(p)\n",
        "\n",
        "plt.figure(figsize=(10,8))\n",
        "ax = sns.barplot(y, X['Income'],\n",
        "                 ci= 0,\n",
        "                 hue= priordefault);\n",
        "\n",
        "plt.title('Approval Based on Income and Prior Default', fontsize= 16);\n",
        "plt.xlabel('Approved', fontsize= 14);\n",
        "plt.ylabel('Income ($)', fontsize= 14);\n",
        "plt.xticks([0,1],['No', 'Yes']);\n"
      ],
      "metadata": {
        "colab": {
          "base_uri": "https://localhost:8080/",
          "height": 575
        },
        "id": "3QsFkFeu6tMr",
        "outputId": "ffba256a-d944-4ba8-a125-ccf998e93d07"
      },
      "execution_count": null,
      "outputs": [
        {
          "output_type": "stream",
          "name": "stderr",
          "text": [
            "/usr/local/lib/python3.7/dist-packages/seaborn/_decorators.py:43: FutureWarning: Pass the following variables as keyword args: x, y. From version 0.12, the only valid positional argument will be `data`, and passing other arguments without an explicit keyword will result in an error or misinterpretation.\n",
            "  FutureWarning\n"
          ]
        },
        {
          "output_type": "display_data",
          "data": {
            "text/plain": [
              "<Figure size 720x576 with 1 Axes>"
            ],
            "image/png": "[encoded data removed]"
          },
          "metadata": {
            "needs_background": "light"
          }
        }
      ]
    },
    {
      "cell_type": "markdown",
      "source": [
        "This graph indicates that all applicants with an income of more than $ 1000 got approved regarless of whether or not they have defaulted on a payment in the past. "
      ],
      "metadata": {
        "id": "K9BX78MADj8x"
      }
    },
    {
      "cell_type": "code",
      "source": [
        "# Approval based on Prior Default and Employment Status\n",
        "\n",
        "e = {0 : 'No',\n",
        "     1 : 'Yes'}\n",
        "\n",
        "employed = X['Employed'].replace(e)\n",
        "\n",
        "plt.figure(figsize=(10,8))\n",
        "ax = sns.barplot(X['PriorDefault'],y,\n",
        "                 ci= 0,\n",
        "                 hue= employed);\n",
        "\n",
        "plt.title(' Approval based on Prior Default and Employment Status', fontsize= 16);\n",
        "plt.xlabel('Prior Default', fontsize= 14);\n",
        "plt.ylabel('Approved', fontsize= 14);\n",
        "plt.yticks([0,1],['No', 'Yes']);\n",
        "plt.xticks([0,1],['No', 'Yes']);"
      ],
      "metadata": {
        "id": "1AxILNkkm7nC",
        "colab": {
          "base_uri": "https://localhost:8080/",
          "height": 575
        },
        "outputId": "e0935554-607d-4fda-e83e-4e8da8c60987"
      },
      "execution_count": 1274,
      "outputs": [
        {
          "output_type": "stream",
          "name": "stderr",
          "text": [
            "/usr/local/lib/python3.7/dist-packages/seaborn/_decorators.py:43: FutureWarning: Pass the following variables as keyword args: x, y. From version 0.12, the only valid positional argument will be `data`, and passing other arguments without an explicit keyword will result in an error or misinterpretation.\n",
            "  FutureWarning\n"
          ]
        },
        {
          "output_type": "display_data",
          "data": {
            "text/plain": [
              "<Figure size 720x576 with 1 Axes>"
            ],
            "image/png": "[encoded data removed]"
          },
          "metadata": {
            "needs_background": "light"
          }
        }
      ]
    },
    {
      "cell_type": "markdown",
      "source": [
        "This barchart indicates that applicants with a prior default who are employed are more likely to get approved for a credit card. It also indicates that for those who do not have a prior default,however small the sample may be, the applicants that are not employeed are more likely to get approved for a credit card.\n"
      ],
      "metadata": {
        "id": "x5Yu6-AP69Mt"
      }
    },
    {
      "cell_type": "code",
      "source": [
        "# Approval based on Debt and Prior Default Status\n",
        "\n",
        "plt.figure(figsize=(10,8))\n",
        "ax = sns.lineplot(y, X['Debt'],\n",
        "                 ci = 0,\n",
        "                 hue= priordefault);\n",
        "\n",
        "plt.title('Approval Based on Debt and Prior Default Status', fontsize= 16);\n",
        "plt.xlabel('Approved', fontsize= 14);\n",
        "plt.ylabel('Debt ($)', fontsize= 14);\n",
        "plt.xticks([0,1],['No', 'Yes']);"
      ],
      "metadata": {
        "colab": {
          "base_uri": "https://localhost:8080/",
          "height": 575
        },
        "id": "bdotHJ3f_0NB",
        "outputId": "758b9a79-76d9-4d71-a607-73865d39bb18"
      },
      "execution_count": 1276,
      "outputs": [
        {
          "output_type": "stream",
          "name": "stderr",
          "text": [
            "/usr/local/lib/python3.7/dist-packages/seaborn/_decorators.py:43: FutureWarning: Pass the following variables as keyword args: x, y. From version 0.12, the only valid positional argument will be `data`, and passing other arguments without an explicit keyword will result in an error or misinterpretation.\n",
            "  FutureWarning\n"
          ]
        },
        {
          "output_type": "display_data",
          "data": {
            "text/plain": [
              "<Figure size 720x576 with 1 Axes>"
            ],
            "image/png": "[encoded data removed]"
          },
          "metadata": {
            "needs_background": "light"
          }
        }
      ]
    },
    {
      "cell_type": "markdown",
      "source": [
        "This line graph indicates that applicants who have a prior default, the higher the debt, the more likey they are to get approved, while as for the applicants that do not have a prior default, the lower the debt, the  higher the chances are for their approval."
      ],
      "metadata": {
        "id": "_g5Hn8SfFDf1"
      }
    },
    {
      "cell_type": "markdown",
      "source": [
        "# PREPARING DATA FOR MODELING"
      ],
      "metadata": {
        "id": "WapsWQBC0FBo"
      }
    },
    {
      "cell_type": "code",
      "source": [
        "X.head()"
      ],
      "metadata": {
        "colab": {
          "base_uri": "https://localhost:8080/",
          "height": 268
        },
        "id": "Kr2Di20u3VES",
        "outputId": "7b36daed-f064-4f59-e7cb-01c2b9e14dc6"
      },
      "execution_count": null,
      "outputs": [
        {
          "output_type": "execute_result",
          "data": {
            "text/plain": [
              "   Gender    Age   Debt  Married  BankCustomer Ethnicity  YearsEmployed  \\\n",
              "0       1  30.83  0.000        1             1     White           1.25   \n",
              "1       0  58.67  4.460        1             1     Black           3.04   \n",
              "2       0  24.50  0.500        1             1     Black           1.50   \n",
              "3       1  27.83  1.540        1             1     White           3.75   \n",
              "4       1  20.17  5.625        1             1     White           1.71   \n",
              "\n",
              "   PriorDefault  Employed  CreditScore  DriversLicense       Citizen  Income  \n",
              "0             1         1            1               0       ByBirth       0  \n",
              "1             1         1            6               0       ByBirth     560  \n",
              "2             1         0            0               0       ByBirth     824  \n",
              "3             1         1            5               1       ByBirth       3  \n",
              "4             1         0            0               0  ByOtherMeans       0  "
            ],
            "text/html": [
              "\n",
              "  <div id=\"df-2db7fc53-fd92-44a6-a5f7-38c50cef8c5a\">\n",
              "    <div class=\"colab-df-container\">\n",
              "      <div>\n",
              "<style scoped>\n",
              "    .dataframe tbody tr th:only-of-type {\n",
              "        vertical-align: middle;\n",
              "    }\n",
              "\n",
              "    .dataframe tbody tr th {\n",
              "        vertical-align: top;\n",
              "    }\n",
              "\n",
              "    .dataframe thead th {\n",
              "        text-align: right;\n",
              "    }\n",
              "</style>\n",
              "<table border=\"1\" class=\"dataframe\">\n",
              "  <thead>\n",
              "    <tr style=\"text-align: right;\">\n",
              "      <th></th>\n",
              "      <th>Gender</th>\n",
              "      <th>Age</th>\n",
              "      <th>Debt</th>\n",
              "      <th>Married</th>\n",
              "      <th>BankCustomer</th>\n",
              "      <th>Ethnicity</th>\n",
              "      <th>YearsEmployed</th>\n",
              "      <th>PriorDefault</th>\n",
              "      <th>Employed</th>\n",
              "      <th>CreditScore</th>\n",
              "      <th>DriversLicense</th>\n",
              "      <th>Citizen</th>\n",
              "      <th>Income</th>\n",
              "    </tr>\n",
              "  </thead>\n",
              "  <tbody>\n",
              "    <tr>\n",
              "      <th>0</th>\n",
              "      <td>1</td>\n",
              "      <td>30.83</td>\n",
              "      <td>0.000</td>\n",
              "      <td>1</td>\n",
              "      <td>1</td>\n",
              "      <td>White</td>\n",
              "      <td>1.25</td>\n",
              "      <td>1</td>\n",
              "      <td>1</td>\n",
              "      <td>1</td>\n",
              "      <td>0</td>\n",
              "      <td>ByBirth</td>\n",
              "      <td>0</td>\n",
              "    </tr>\n",
              "    <tr>\n",
              "      <th>1</th>\n",
              "      <td>0</td>\n",
              "      <td>58.67</td>\n",
              "      <td>4.460</td>\n",
              "      <td>1</td>\n",
              "      <td>1</td>\n",
              "      <td>Black</td>\n",
              "      <td>3.04</td>\n",
              "      <td>1</td>\n",
              "      <td>1</td>\n",
              "      <td>6</td>\n",
              "      <td>0</td>\n",
              "      <td>ByBirth</td>\n",
              "      <td>560</td>\n",
              "    </tr>\n",
              "    <tr>\n",
              "      <th>2</th>\n",
              "      <td>0</td>\n",
              "      <td>24.50</td>\n",
              "      <td>0.500</td>\n",
              "      <td>1</td>\n",
              "      <td>1</td>\n",
              "      <td>Black</td>\n",
              "      <td>1.50</td>\n",
              "      <td>1</td>\n",
              "      <td>0</td>\n",
              "      <td>0</td>\n",
              "      <td>0</td>\n",
              "      <td>ByBirth</td>\n",
              "      <td>824</td>\n",
              "    </tr>\n",
              "    <tr>\n",
              "      <th>3</th>\n",
              "      <td>1</td>\n",
              "      <td>27.83</td>\n",
              "      <td>1.540</td>\n",
              "      <td>1</td>\n",
              "      <td>1</td>\n",
              "      <td>White</td>\n",
              "      <td>3.75</td>\n",
              "      <td>1</td>\n",
              "      <td>1</td>\n",
              "      <td>5</td>\n",
              "      <td>1</td>\n",
              "      <td>ByBirth</td>\n",
              "      <td>3</td>\n",
              "    </tr>\n",
              "    <tr>\n",
              "      <th>4</th>\n",
              "      <td>1</td>\n",
              "      <td>20.17</td>\n",
              "      <td>5.625</td>\n",
              "      <td>1</td>\n",
              "      <td>1</td>\n",
              "      <td>White</td>\n",
              "      <td>1.71</td>\n",
              "      <td>1</td>\n",
              "      <td>0</td>\n",
              "      <td>0</td>\n",
              "      <td>0</td>\n",
              "      <td>ByOtherMeans</td>\n",
              "      <td>0</td>\n",
              "    </tr>\n",
              "  </tbody>\n",
              "</table>\n",
              "</div>\n",
              "      <button class=\"colab-df-convert\" onclick=\"convertToInteractive('df-2db7fc53-fd92-44a6-a5f7-38c50cef8c5a')\"\n",
              "              title=\"Convert this dataframe to an interactive table.\"\n",
              "              style=\"display:none;\">\n",
              "        \n",
              "  <svg xmlns=\"http://www.w3.org/2000/svg\" height=\"24px\"viewBox=\"0 0 24 24\"\n",
              "       width=\"24px\">\n",
              "    <path d=\"M0 0h24v24H0V0z\" fill=\"none\"/>\n",
              "    <path d=\"M18.56 5.44l.94 2.06.94-2.06 2.06-.94-2.06-.94-.94-2.06-.94 2.06-2.06.94zm-11 1L8.5 8.5l.94-2.06 2.06-.94-2.06-.94L8.5 2.5l-.94 2.06-2.06.94zm10 10l.94 2.06.94-2.06 2.06-.94-2.06-.94-.94-2.06-.94 2.06-2.06.94z\"/><path d=\"M17.41 7.96l-1.37-1.37c-.4-.4-.92-.59-1.43-.59-.52 0-1.04.2-1.43.59L10.3 9.45l-7.72 7.72c-.78.78-.78 2.05 0 2.83L4 21.41c.39.39.9.59 1.41.59.51 0 1.02-.2 1.41-.59l7.78-7.78 2.81-2.81c.8-.78.8-2.07 0-2.86zM5.41 20L4 18.59l7.72-7.72 1.47 1.35L5.41 20z\"/>\n",
              "  </svg>\n",
              "      </button>\n",
              "      \n",
              "  <style>\n",
              "    .colab-df-container {\n",
              "      display:flex;\n",
              "      flex-wrap:wrap;\n",
              "      gap: 12px;\n",
              "    }\n",
              "\n",
              "    .colab-df-convert {\n",
              "      background-color: #E8F0FE;\n",
              "      border: none;\n",
              "      border-radius: 50%;\n",
              "      cursor: pointer;\n",
              "      display: none;\n",
              "      fill: #1967D2;\n",
              "      height: 32px;\n",
              "      padding: 0 0 0 0;\n",
              "      width: 32px;\n",
              "    }\n",
              "\n",
              "    .colab-df-convert:hover {\n",
              "      background-color: #E2EBFA;\n",
              "      box-shadow: 0px 1px 2px rgba(60, 64, 67, 0.3), 0px 1px 3px 1px rgba(60, 64, 67, 0.15);\n",
              "      fill: #174EA6;\n",
              "    }\n",
              "\n",
              "    [theme=dark] .colab-df-convert {\n",
              "      background-color: #3B4455;\n",
              "      fill: #D2E3FC;\n",
              "    }\n",
              "\n",
              "    [theme=dark] .colab-df-convert:hover {\n",
              "      background-color: #434B5C;\n",
              "      box-shadow: 0px 1px 3px 1px rgba(0, 0, 0, 0.15);\n",
              "      filter: drop-shadow(0px 1px 2px rgba(0, 0, 0, 0.3));\n",
              "      fill: #FFFFFF;\n",
              "    }\n",
              "  </style>\n",
              "\n",
              "      <script>\n",
              "        const buttonEl =\n",
              "          document.querySelector('#df-2db7fc53-fd92-44a6-a5f7-38c50cef8c5a button.colab-df-convert');\n",
              "        buttonEl.style.display =\n",
              "          google.colab.kernel.accessAllowed ? 'block' : 'none';\n",
              "\n",
              "        async function convertToInteractive(key) {\n",
              "          const element = document.querySelector('#df-2db7fc53-fd92-44a6-a5f7-38c50cef8c5a');\n",
              "          const dataTable =\n",
              "            await google.colab.kernel.invokeFunction('convertToInteractive',\n",
              "                                                     [key], {});\n",
              "          if (!dataTable) return;\n",
              "\n",
              "          const docLinkHtml = 'Like what you see? Visit the ' +\n",
              "            '<a target=\"_blank\" href=https://colab.research.google.com/notebooks/data_table.ipynb>data table notebook</a>'\n",
              "            + ' to learn more about interactive tables.';\n",
              "          element.innerHTML = '';\n",
              "          dataTable['output_type'] = 'display_data';\n",
              "          await google.colab.output.renderOutput(dataTable, element);\n",
              "          const docLink = document.createElement('div');\n",
              "          docLink.innerHTML = docLinkHtml;\n",
              "          element.appendChild(docLink);\n",
              "        }\n",
              "      </script>\n",
              "    </div>\n",
              "  </div>\n",
              "  "
            ]
          },
          "metadata": {},
          "execution_count": 941
        }
      ]
    },
    {
      "cell_type": "markdown",
      "source": [
        "This dataset contains information regarding gender, relationship status, citzenship status, and ethnicity that wouldn't be necesarry to predict whether or not an applicant got approved. \n",
        "\n",
        "Using such features could possibly form a bias if one category represents a larger proportion of the dataset. Forming a bias based on gender, ethnicity or whether or not the applicant is married or a citizen would be unethical and should be avoided.\n",
        "\n",
        "Therefore, in order to avoid such biases, these features will be removed from the predictive model"
      ],
      "metadata": {
        "id": "Vv5bVTwZ4Ak3"
      }
    },
    {
      "cell_type": "code",
      "source": [
        "# Remove features from the X dataset\n",
        "\n",
        "X = X.drop(columns= ['Gender', 'Married', 'Ethnicity', 'Citizen'])\n",
        "\n",
        "X.head()"
      ],
      "metadata": {
        "colab": {
          "base_uri": "https://localhost:8080/",
          "height": 268
        },
        "id": "jnM7lOMy3W_i",
        "outputId": "12809670-8acb-484b-fbb1-373ab8fef0f4"
      },
      "execution_count": null,
      "outputs": [
        {
          "output_type": "execute_result",
          "data": {
            "text/plain": [
              "     Age   Debt  BankCustomer  YearsEmployed  PriorDefault  Employed  \\\n",
              "0  30.83  0.000             1           1.25             1         1   \n",
              "1  58.67  4.460             1           3.04             1         1   \n",
              "2  24.50  0.500             1           1.50             1         0   \n",
              "3  27.83  1.540             1           3.75             1         1   \n",
              "4  20.17  5.625             1           1.71             1         0   \n",
              "\n",
              "   CreditScore  DriversLicense  Income  \n",
              "0            1               0       0  \n",
              "1            6               0     560  \n",
              "2            0               0     824  \n",
              "3            5               1       3  \n",
              "4            0               0       0  "
            ],
            "text/html": [
              "\n",
              "  <div id=\"df-c467fac7-a08e-400f-ad00-e4a4bab5d0d6\">\n",
              "    <div class=\"colab-df-container\">\n",
              "      <div>\n",
              "<style scoped>\n",
              "    .dataframe tbody tr th:only-of-type {\n",
              "        vertical-align: middle;\n",
              "    }\n",
              "\n",
              "    .dataframe tbody tr th {\n",
              "        vertical-align: top;\n",
              "    }\n",
              "\n",
              "    .dataframe thead th {\n",
              "        text-align: right;\n",
              "    }\n",
              "</style>\n",
              "<table border=\"1\" class=\"dataframe\">\n",
              "  <thead>\n",
              "    <tr style=\"text-align: right;\">\n",
              "      <th></th>\n",
              "      <th>Age</th>\n",
              "      <th>Debt</th>\n",
              "      <th>BankCustomer</th>\n",
              "      <th>YearsEmployed</th>\n",
              "      <th>PriorDefault</th>\n",
              "      <th>Employed</th>\n",
              "      <th>CreditScore</th>\n",
              "      <th>DriversLicense</th>\n",
              "      <th>Income</th>\n",
              "    </tr>\n",
              "  </thead>\n",
              "  <tbody>\n",
              "    <tr>\n",
              "      <th>0</th>\n",
              "      <td>30.83</td>\n",
              "      <td>0.000</td>\n",
              "      <td>1</td>\n",
              "      <td>1.25</td>\n",
              "      <td>1</td>\n",
              "      <td>1</td>\n",
              "      <td>1</td>\n",
              "      <td>0</td>\n",
              "      <td>0</td>\n",
              "    </tr>\n",
              "    <tr>\n",
              "      <th>1</th>\n",
              "      <td>58.67</td>\n",
              "      <td>4.460</td>\n",
              "      <td>1</td>\n",
              "      <td>3.04</td>\n",
              "      <td>1</td>\n",
              "      <td>1</td>\n",
              "      <td>6</td>\n",
              "      <td>0</td>\n",
              "      <td>560</td>\n",
              "    </tr>\n",
              "    <tr>\n",
              "      <th>2</th>\n",
              "      <td>24.50</td>\n",
              "      <td>0.500</td>\n",
              "      <td>1</td>\n",
              "      <td>1.50</td>\n",
              "      <td>1</td>\n",
              "      <td>0</td>\n",
              "      <td>0</td>\n",
              "      <td>0</td>\n",
              "      <td>824</td>\n",
              "    </tr>\n",
              "    <tr>\n",
              "      <th>3</th>\n",
              "      <td>27.83</td>\n",
              "      <td>1.540</td>\n",
              "      <td>1</td>\n",
              "      <td>3.75</td>\n",
              "      <td>1</td>\n",
              "      <td>1</td>\n",
              "      <td>5</td>\n",
              "      <td>1</td>\n",
              "      <td>3</td>\n",
              "    </tr>\n",
              "    <tr>\n",
              "      <th>4</th>\n",
              "      <td>20.17</td>\n",
              "      <td>5.625</td>\n",
              "      <td>1</td>\n",
              "      <td>1.71</td>\n",
              "      <td>1</td>\n",
              "      <td>0</td>\n",
              "      <td>0</td>\n",
              "      <td>0</td>\n",
              "      <td>0</td>\n",
              "    </tr>\n",
              "  </tbody>\n",
              "</table>\n",
              "</div>\n",
              "      <button class=\"colab-df-convert\" onclick=\"convertToInteractive('df-c467fac7-a08e-400f-ad00-e4a4bab5d0d6')\"\n",
              "              title=\"Convert this dataframe to an interactive table.\"\n",
              "              style=\"display:none;\">\n",
              "        \n",
              "  <svg xmlns=\"http://www.w3.org/2000/svg\" height=\"24px\"viewBox=\"0 0 24 24\"\n",
              "       width=\"24px\">\n",
              "    <path d=\"M0 0h24v24H0V0z\" fill=\"none\"/>\n",
              "    <path d=\"M18.56 5.44l.94 2.06.94-2.06 2.06-.94-2.06-.94-.94-2.06-.94 2.06-2.06.94zm-11 1L8.5 8.5l.94-2.06 2.06-.94-2.06-.94L8.5 2.5l-.94 2.06-2.06.94zm10 10l.94 2.06.94-2.06 2.06-.94-2.06-.94-.94-2.06-.94 2.06-2.06.94z\"/><path d=\"M17.41 7.96l-1.37-1.37c-.4-.4-.92-.59-1.43-.59-.52 0-1.04.2-1.43.59L10.3 9.45l-7.72 7.72c-.78.78-.78 2.05 0 2.83L4 21.41c.39.39.9.59 1.41.59.51 0 1.02-.2 1.41-.59l7.78-7.78 2.81-2.81c.8-.78.8-2.07 0-2.86zM5.41 20L4 18.59l7.72-7.72 1.47 1.35L5.41 20z\"/>\n",
              "  </svg>\n",
              "      </button>\n",
              "      \n",
              "  <style>\n",
              "    .colab-df-container {\n",
              "      display:flex;\n",
              "      flex-wrap:wrap;\n",
              "      gap: 12px;\n",
              "    }\n",
              "\n",
              "    .colab-df-convert {\n",
              "      background-color: #E8F0FE;\n",
              "      border: none;\n",
              "      border-radius: 50%;\n",
              "      cursor: pointer;\n",
              "      display: none;\n",
              "      fill: #1967D2;\n",
              "      height: 32px;\n",
              "      padding: 0 0 0 0;\n",
              "      width: 32px;\n",
              "    }\n",
              "\n",
              "    .colab-df-convert:hover {\n",
              "      background-color: #E2EBFA;\n",
              "      box-shadow: 0px 1px 2px rgba(60, 64, 67, 0.3), 0px 1px 3px 1px rgba(60, 64, 67, 0.15);\n",
              "      fill: #174EA6;\n",
              "    }\n",
              "\n",
              "    [theme=dark] .colab-df-convert {\n",
              "      background-color: #3B4455;\n",
              "      fill: #D2E3FC;\n",
              "    }\n",
              "\n",
              "    [theme=dark] .colab-df-convert:hover {\n",
              "      background-color: #434B5C;\n",
              "      box-shadow: 0px 1px 3px 1px rgba(0, 0, 0, 0.15);\n",
              "      filter: drop-shadow(0px 1px 2px rgba(0, 0, 0, 0.3));\n",
              "      fill: #FFFFFF;\n",
              "    }\n",
              "  </style>\n",
              "\n",
              "      <script>\n",
              "        const buttonEl =\n",
              "          document.querySelector('#df-c467fac7-a08e-400f-ad00-e4a4bab5d0d6 button.colab-df-convert');\n",
              "        buttonEl.style.display =\n",
              "          google.colab.kernel.accessAllowed ? 'block' : 'none';\n",
              "\n",
              "        async function convertToInteractive(key) {\n",
              "          const element = document.querySelector('#df-c467fac7-a08e-400f-ad00-e4a4bab5d0d6');\n",
              "          const dataTable =\n",
              "            await google.colab.kernel.invokeFunction('convertToInteractive',\n",
              "                                                     [key], {});\n",
              "          if (!dataTable) return;\n",
              "\n",
              "          const docLinkHtml = 'Like what you see? Visit the ' +\n",
              "            '<a target=\"_blank\" href=https://colab.research.google.com/notebooks/data_table.ipynb>data table notebook</a>'\n",
              "            + ' to learn more about interactive tables.';\n",
              "          element.innerHTML = '';\n",
              "          dataTable['output_type'] = 'display_data';\n",
              "          await google.colab.output.renderOutput(dataTable, element);\n",
              "          const docLink = document.createElement('div');\n",
              "          docLink.innerHTML = docLinkHtml;\n",
              "          element.appendChild(docLink);\n",
              "        }\n",
              "      </script>\n",
              "    </div>\n",
              "  </div>\n",
              "  "
            ]
          },
          "metadata": {},
          "execution_count": 942
        }
      ]
    },
    {
      "cell_type": "code",
      "source": [
        "# Define the Scaler\n",
        "\n",
        "scaler = StandardScaler()\n",
        "\n",
        "# Perform a Train Test Split\n",
        "\n",
        "X_train, X_test, y_train, y_test = train_test_split( X, y, random_state= 42)"
      ],
      "metadata": {
        "id": "enR8GssvEs9D"
      },
      "execution_count": null,
      "outputs": []
    },
    {
      "cell_type": "markdown",
      "source": [
        "# PRECTION MODELS TO USE"
      ],
      "metadata": {
        "id": "KAtLtT4SAmZT"
      }
    },
    {
      "cell_type": "markdown",
      "source": [
        "In order to make predictions for credit card approvals, we will analize three different models. Each model will be used three times. Once without tuning for parameters, once tuning the parameter, and once with pca clustering the data on the tuned model.\n",
        "\n",
        "The models used for predictions are:\n",
        "\n",
        "\n",
        "1.   Logistical Regression Model\n",
        "2.   Random Forest Model\n",
        "3.   K Nearest Neighbor\n",
        "\n"
      ],
      "metadata": {
        "id": "fsyXiCFlAmO7"
      }
    },
    {
      "cell_type": "markdown",
      "source": [
        "# LOGISTICAL REGRESSION MODELS"
      ],
      "metadata": {
        "id": "FqtVsmjcAllF"
      }
    },
    {
      "cell_type": "markdown",
      "source": [
        "UNTUNED LOGISTICAL REGRESSION MODEL"
      ],
      "metadata": {
        "id": "FUsn7VyXGOsV"
      }
    },
    {
      "cell_type": "code",
      "source": [
        "# Define the LR Model\n",
        "\n",
        "lr = LogisticRegression()\n",
        "\n",
        "# Make lr pipeline\n",
        "\n",
        "lr_pipe = make_pipeline(preprocessor, lr)"
      ],
      "metadata": {
        "id": "iBRx3xNt_aNz"
      },
      "execution_count": null,
      "outputs": []
    },
    {
      "cell_type": "code",
      "source": [
        "# Fit the model\n",
        "\n",
        "lr_pipe.fit(X_train, y_train) "
      ],
      "metadata": {
        "colab": {
          "base_uri": "https://localhost:8080/"
        },
        "id": "-Qv5Dt9UHgd0",
        "outputId": "ec6312da-faef-4551-db04-f6f0b7a31267"
      },
      "execution_count": null,
      "outputs": [
        {
          "output_type": "execute_result",
          "data": {
            "text/plain": [
              "Pipeline(steps=[('columntransformer',\n",
              "                 ColumnTransformer(transformers=[('pipeline-1',\n",
              "                                                  Pipeline(steps=[('standardscaler',\n",
              "                                                                   StandardScaler())]),\n",
              "                                                  <sklearn.compose._column_transformer.make_column_selector object at 0x7efd4967cc50>),\n",
              "                                                 ('pipeline-2',\n",
              "                                                  Pipeline(steps=[('onehotencoder',\n",
              "                                                                   OneHotEncoder(handle_unknown='ignore',\n",
              "                                                                                 sparse=False))]),\n",
              "                                                  <sklearn.compose._column_transformer.make_column_selector object at 0x7efd4967c910>)])),\n",
              "                ('logisticregression', LogisticRegression())])"
            ]
          },
          "metadata": {},
          "execution_count": 945
        }
      ]
    },
    {
      "cell_type": "code",
      "source": [
        "# Make a prediction\n",
        "\n",
        "%%time\n",
        "lr_testpred = lr_pipe.predict(X_test)"
      ],
      "metadata": {
        "colab": {
          "base_uri": "https://localhost:8080/"
        },
        "id": "GTSXZb8sHfMe",
        "outputId": "93575535-d216-424c-d41e-6f0aefad9ff2"
      },
      "execution_count": null,
      "outputs": [
        {
          "output_type": "stream",
          "name": "stdout",
          "text": [
            "CPU times: user 4.67 ms, sys: 10 µs, total: 4.68 ms\n",
            "Wall time: 5.14 ms\n"
          ]
        }
      ]
    },
    {
      "cell_type": "code",
      "source": [
        "# Accuracy Score test\n",
        "\n",
        "train_lrscore = lr_pipe.score(X_train, y_train)\n",
        "test_lrscore = lr_pipe.score(X_test, y_test)\n",
        "\n",
        "print('Logistical Regression Training Score Accuracy', train_lrscore)\n",
        "print('Logistical Regression Testing Score Accuracy', test_lrscore) "
      ],
      "metadata": {
        "colab": {
          "base_uri": "https://localhost:8080/"
        },
        "id": "qIzVzcitHi81",
        "outputId": "eb5e6059-f7c1-418d-bfbd-8d680961ef44"
      },
      "execution_count": null,
      "outputs": [
        {
          "output_type": "stream",
          "name": "stdout",
          "text": [
            "Logistical Regression Training Score Accuracy 0.8684719535783365\n",
            "Logistical Regression Testing Score Accuracy 0.8439306358381503\n"
          ]
        }
      ]
    },
    {
      "cell_type": "markdown",
      "source": [
        "TUNED LOGISTICAL REGRESSION MODEL"
      ],
      "metadata": {
        "id": "kK-VSApXNRcw"
      }
    },
    {
      "cell_type": "code",
      "source": [
        "# Define the GridSearch Parameters\n",
        "\n",
        "param = [{'C':[0.0001, 0.001, 0.01, 0.1, 1, 10, 100, 1000],\n",
        "         'max_iter': [1000],\n",
        "         'solver':['liblinear'],\n",
        "         'penalty': ['l1', 'l2']}\n",
        "         ]\n",
        "\n",
        "# Fit Parameters into the Logistical Regression Model  \n",
        "\n",
        "lr_gridsearch = GridSearchCV(lr, param_grid= param)\n",
        "\n",
        "# Make and fit a Tuned LR pipeline\n",
        "\n",
        "tuned_lrpipe = make_pipeline(preprocessor, lr_gridsearch)"
      ],
      "metadata": {
        "id": "dVIcYs_hNVas"
      },
      "execution_count": null,
      "outputs": []
    },
    {
      "cell_type": "code",
      "source": [
        "# Fit the tuned model\n",
        "\n",
        "tuned_lrpipe.fit(X_train, y_train)"
      ],
      "metadata": {
        "colab": {
          "base_uri": "https://localhost:8080/"
        },
        "id": "13dnwu0CT-jx",
        "outputId": "c0c486b7-8d5f-47ca-8c66-e880c36b476e"
      },
      "execution_count": null,
      "outputs": [
        {
          "output_type": "execute_result",
          "data": {
            "text/plain": [
              "Pipeline(steps=[('columntransformer',\n",
              "                 ColumnTransformer(transformers=[('pipeline-1',\n",
              "                                                  Pipeline(steps=[('standardscaler',\n",
              "                                                                   StandardScaler())]),\n",
              "                                                  <sklearn.compose._column_transformer.make_column_selector object at 0x7efd4967cc50>),\n",
              "                                                 ('pipeline-2',\n",
              "                                                  Pipeline(steps=[('onehotencoder',\n",
              "                                                                   OneHotEncoder(handle_unknown='ignore',\n",
              "                                                                                 sparse=False))]),\n",
              "                                                  <sklearn.compose._column_transformer.make_column_selector object at 0x7efd4967c910>)])),\n",
              "                ('gridsearchcv',\n",
              "                 GridSearchCV(estimator=LogisticRegression(),\n",
              "                              param_grid=[{'C': [0.0001, 0.001, 0.01, 0.1, 1,\n",
              "                                                 10, 100, 1000],\n",
              "                                           'max_iter': [1000],\n",
              "                                           'penalty': ['l1', 'l2'],\n",
              "                                           'solver': ['liblinear']}]))])"
            ]
          },
          "metadata": {},
          "execution_count": 949
        }
      ]
    },
    {
      "cell_type": "code",
      "source": [
        "# Time the Prediction\n",
        " \n",
        "%%time\n",
        "tunedlr_testpred = tuned_lrpipe.predict(X_test)"
      ],
      "metadata": {
        "colab": {
          "base_uri": "https://localhost:8080/"
        },
        "id": "kyCtYLydUFlt",
        "outputId": "f6a8c5d4-3cfc-4b92-8f3a-024a2495fd24"
      },
      "execution_count": null,
      "outputs": [
        {
          "output_type": "stream",
          "name": "stdout",
          "text": [
            "CPU times: user 4.38 ms, sys: 6 µs, total: 4.39 ms\n",
            "Wall time: 4.03 ms\n"
          ]
        }
      ]
    },
    {
      "cell_type": "code",
      "source": [
        "# Accuracy Score test\n",
        "\n",
        "train_tunedlrscore = tuned_lrpipe.score(X_train, y_train)\n",
        "test_tunedlrscore = tuned_lrpipe.score(X_test, y_test)\n",
        "\n",
        "print('Tuned Logistical Regression Training Score Accuracy', train_tunedlrscore)\n",
        "print('Tuned Logistical Regression Testing Score Accuracy', test_tunedlrscore) "
      ],
      "metadata": {
        "colab": {
          "base_uri": "https://localhost:8080/"
        },
        "id": "gRCpCb0WUFAz",
        "outputId": "0ec87f6c-bc26-4a8e-f14c-db84c178f5e3"
      },
      "execution_count": null,
      "outputs": [
        {
          "output_type": "stream",
          "name": "stdout",
          "text": [
            "Tuned Logistical Regression Training Score Accuracy 0.8684719535783365\n",
            "Tuned Logistical Regression Testing Score Accuracy 0.8497109826589595\n"
          ]
        }
      ]
    },
    {
      "cell_type": "markdown",
      "source": [
        "PCA TUNED LOGISTICAL REGRESSION MODEL"
      ],
      "metadata": {
        "id": "svfoDnMzYXNJ"
      }
    },
    {
      "cell_type": "code",
      "source": [
        "# Make a PCA Pipeline\n",
        "\n",
        "pca = PCA(n_components= .99)\n",
        "\n",
        "pca_pipe = make_pipeline(preprocessor, pca)\n",
        "\n",
        "# Make a PCA Tuned LR Pipeline\n",
        "\n",
        "pca_lrpipe = make_pipeline(pca_pipe, lr_gridsearch)"
      ],
      "metadata": {
        "id": "luX0aUrKUkqz"
      },
      "execution_count": null,
      "outputs": []
    },
    {
      "cell_type": "code",
      "source": [
        "# Fit the new pipline\n",
        "\n",
        "pca_lrpipe.fit(X_train,y_train)"
      ],
      "metadata": {
        "colab": {
          "base_uri": "https://localhost:8080/"
        },
        "id": "m3YAYcLFZzHP",
        "outputId": "dff2dc1d-705f-45e3-8431-5f4d8c2f7dc0"
      },
      "execution_count": null,
      "outputs": [
        {
          "output_type": "execute_result",
          "data": {
            "text/plain": [
              "Pipeline(steps=[('pipeline',\n",
              "                 Pipeline(steps=[('columntransformer',\n",
              "                                  ColumnTransformer(transformers=[('pipeline-1',\n",
              "                                                                   Pipeline(steps=[('standardscaler',\n",
              "                                                                                    StandardScaler())]),\n",
              "                                                                   <sklearn.compose._column_transformer.make_column_selector object at 0x7efd4967cc50>),\n",
              "                                                                  ('pipeline-2',\n",
              "                                                                   Pipeline(steps=[('onehotencoder',\n",
              "                                                                                    OneHotEncoder(handle_unknown='ignore',\n",
              "                                                                                                  sparse=False))]),\n",
              "                                                                   <sklearn.compose._column_transformer.make_column_selector object at 0x7efd4967c910>)])),\n",
              "                                 ('pca', PCA(n_components=0.99))])),\n",
              "                ('gridsearchcv',\n",
              "                 GridSearchCV(estimator=LogisticRegression(),\n",
              "                              param_grid=[{'C': [0.0001, 0.001, 0.01, 0.1, 1,\n",
              "                                                 10, 100, 1000],\n",
              "                                           'max_iter': [1000],\n",
              "                                           'penalty': ['l1', 'l2'],\n",
              "                                           'solver': ['liblinear']}]))])"
            ]
          },
          "metadata": {},
          "execution_count": 953
        }
      ]
    },
    {
      "cell_type": "code",
      "source": [
        "# Time the Prediction\n",
        " \n",
        "%%time\n",
        "pcalr_testpred = pca_lrpipe.predict(X_test)"
      ],
      "metadata": {
        "colab": {
          "base_uri": "https://localhost:8080/"
        },
        "id": "iWJ6pJM-bqgg",
        "outputId": "f74a853c-e9fb-49ea-b1ac-cf3949b044f1"
      },
      "execution_count": null,
      "outputs": [
        {
          "output_type": "stream",
          "name": "stdout",
          "text": [
            "CPU times: user 6.86 ms, sys: 0 ns, total: 6.86 ms\n",
            "Wall time: 6.88 ms\n"
          ]
        }
      ]
    },
    {
      "cell_type": "code",
      "source": [
        "# Accuracy Score test\n",
        "\n",
        "train_pcalrscore = pca_lrpipe.score(X_train, y_train)\n",
        "test_pcalrscore = pca_lrpipe.score(X_test, y_test)\n",
        "\n",
        "print('PCA Tuned Logistical Regression Training Score Accuracy', train_pcalrscore)\n",
        "print('PCA Tuned Logistical Regression Testing Score Accuracy', test_pcalrscore) "
      ],
      "metadata": {
        "colab": {
          "base_uri": "https://localhost:8080/"
        },
        "id": "YB6DNK7sb577",
        "outputId": "d45222d8-fc84-48ea-8d72-e3ebe7c28ae4"
      },
      "execution_count": null,
      "outputs": [
        {
          "output_type": "stream",
          "name": "stdout",
          "text": [
            "PCA Tuned Logistical Regression Training Score Accuracy 0.8684719535783365\n",
            "PCA Tuned Logistical Regression Testing Score Accuracy 0.8497109826589595\n"
          ]
        }
      ]
    },
    {
      "cell_type": "markdown",
      "source": [
        "# RANDOM FOREST MODELS"
      ],
      "metadata": {
        "id": "AGsgZYaICLpE"
      }
    },
    {
      "cell_type": "markdown",
      "source": [
        "UNTUNED RANDOM FOREST MODEL"
      ],
      "metadata": {
        "id": "tQdiav-XeVsT"
      }
    },
    {
      "cell_type": "code",
      "source": [
        "# Define the Rf Model\n",
        "\n",
        "rf = RandomForestClassifier()\n",
        "\n",
        "# Make Rf pipeline\n",
        "\n",
        "rf_pipe = make_pipeline(preprocessor, rf) "
      ],
      "metadata": {
        "id": "Zh077yjrCjnv"
      },
      "execution_count": null,
      "outputs": []
    },
    {
      "cell_type": "code",
      "source": [
        "# Fit the model\n",
        "\n",
        "rf_pipe.fit(X_train, y_train)  "
      ],
      "metadata": {
        "colab": {
          "base_uri": "https://localhost:8080/"
        },
        "id": "Zhzh83H3dOP2",
        "outputId": "c6343f08-d4b3-40c8-9cc7-e34c1830a5b5"
      },
      "execution_count": null,
      "outputs": [
        {
          "output_type": "execute_result",
          "data": {
            "text/plain": [
              "Pipeline(steps=[('columntransformer',\n",
              "                 ColumnTransformer(transformers=[('pipeline-1',\n",
              "                                                  Pipeline(steps=[('standardscaler',\n",
              "                                                                   StandardScaler())]),\n",
              "                                                  <sklearn.compose._column_transformer.make_column_selector object at 0x7efd4967cc50>),\n",
              "                                                 ('pipeline-2',\n",
              "                                                  Pipeline(steps=[('onehotencoder',\n",
              "                                                                   OneHotEncoder(handle_unknown='ignore',\n",
              "                                                                                 sparse=False))]),\n",
              "                                                  <sklearn.compose._column_transformer.make_column_selector object at 0x7efd4967c910>)])),\n",
              "                ('randomforestclassifier', RandomForestClassifier())])"
            ]
          },
          "metadata": {},
          "execution_count": 957
        }
      ]
    },
    {
      "cell_type": "code",
      "source": [
        "# Make a prediction\n",
        "\n",
        "%%time\n",
        "rf_testpred = rf_pipe.predict(X_test)"
      ],
      "metadata": {
        "colab": {
          "base_uri": "https://localhost:8080/"
        },
        "id": "9MkW0x0qdwTt",
        "outputId": "fe738f6c-759d-4b27-a173-dc2df17d8846"
      },
      "execution_count": null,
      "outputs": [
        {
          "output_type": "stream",
          "name": "stdout",
          "text": [
            "CPU times: user 31.7 ms, sys: 12 µs, total: 31.8 ms\n",
            "Wall time: 31.5 ms\n"
          ]
        }
      ]
    },
    {
      "cell_type": "code",
      "source": [
        "# Accuracy Score test\n",
        "\n",
        "train_rfscore = rf_pipe.score(X_train, y_train)\n",
        "test_rfscore = rf_pipe.score(X_test, y_test)\n",
        "\n",
        "print('Random Forest Training Score Accuracy', train_rfscore)\n",
        "print('Random Forest Testing Score Accuracy', test_rfscore) "
      ],
      "metadata": {
        "colab": {
          "base_uri": "https://localhost:8080/"
        },
        "id": "sXEhJU8Ud7R8",
        "outputId": "c233f550-4109-4f66-981e-2afc0c33beca"
      },
      "execution_count": null,
      "outputs": [
        {
          "output_type": "stream",
          "name": "stdout",
          "text": [
            "Random Forest Training Score Accuracy 0.9980657640232108\n",
            "Random Forest Testing Score Accuracy 0.8670520231213873\n"
          ]
        }
      ]
    },
    {
      "cell_type": "markdown",
      "source": [
        "TUNED RANDOM FOREST MODEL"
      ],
      "metadata": {
        "id": "-L3eGyxyehnV"
      }
    },
    {
      "cell_type": "code",
      "source": [
        "# Define the GridSearch Parameters\n",
        "\n",
        "param = [{'max_depth': range(15,30),\n",
        "          'min_samples_leaf': [3,15,20],}\n",
        "         ]\n",
        "\n",
        "# Fit Parameters into the Logistical Regression Model  \n",
        "\n",
        "rf_gridsearch = GridSearchCV(rf, param_grid= param)\n",
        "\n",
        "# Make and fit a Tuned RF pipeline\n",
        "\n",
        "tuned_rfpipe = make_pipeline(preprocessor, rf_gridsearch)"
      ],
      "metadata": {
        "id": "8RotOxAie8eD"
      },
      "execution_count": null,
      "outputs": []
    },
    {
      "cell_type": "code",
      "source": [
        "# Fit the tuned model\n",
        "\n",
        "tuned_rfpipe.fit(X_train, y_train)"
      ],
      "metadata": {
        "colab": {
          "base_uri": "https://localhost:8080/"
        },
        "id": "XbErhqq_fecf",
        "outputId": "fb1a05e1-333f-4104-d5a3-720d4bb4b5f9"
      },
      "execution_count": null,
      "outputs": [
        {
          "output_type": "execute_result",
          "data": {
            "text/plain": [
              "Pipeline(steps=[('columntransformer',\n",
              "                 ColumnTransformer(transformers=[('pipeline-1',\n",
              "                                                  Pipeline(steps=[('standardscaler',\n",
              "                                                                   StandardScaler())]),\n",
              "                                                  <sklearn.compose._column_transformer.make_column_selector object at 0x7efd4967cc50>),\n",
              "                                                 ('pipeline-2',\n",
              "                                                  Pipeline(steps=[('onehotencoder',\n",
              "                                                                   OneHotEncoder(handle_unknown='ignore',\n",
              "                                                                                 sparse=False))]),\n",
              "                                                  <sklearn.compose._column_transformer.make_column_selector object at 0x7efd4967c910>)])),\n",
              "                ('gridsearchcv',\n",
              "                 GridSearchCV(estimator=RandomForestClassifier(),\n",
              "                              param_grid=[{'max_depth': range(15, 30),\n",
              "                                           'min_samples_leaf': [3, 15, 20]}]))])"
            ]
          },
          "metadata": {},
          "execution_count": 961
        }
      ]
    },
    {
      "cell_type": "code",
      "source": [
        "# Time the Prediction\n",
        " \n",
        "%%time\n",
        "tunedrf_testpred = tuned_rfpipe.predict(X_test)"
      ],
      "metadata": {
        "colab": {
          "base_uri": "https://localhost:8080/"
        },
        "id": "xS3mcscrhyXG",
        "outputId": "6a38f591-38fc-469a-b888-89388c7335ea"
      },
      "execution_count": null,
      "outputs": [
        {
          "output_type": "stream",
          "name": "stdout",
          "text": [
            "CPU times: user 24 ms, sys: 1.02 ms, total: 25 ms\n",
            "Wall time: 26.3 ms\n"
          ]
        }
      ]
    },
    {
      "cell_type": "code",
      "source": [
        "# Accuracy Score test\n",
        "\n",
        "train_tunedrfscore = tuned_rfpipe.score(X_train, y_train)\n",
        "test_tunedrfscore = tuned_rfpipe.score(X_test, y_test)\n",
        "\n",
        "print('Tuned Random Forest Training Score Accuracy', train_tunedrfscore)\n",
        "print('Tuned Random Forest Testing Score Accuracy', test_tunedrfscore)"
      ],
      "metadata": {
        "colab": {
          "base_uri": "https://localhost:8080/"
        },
        "id": "wJoxslPbiChN",
        "outputId": "ecb9ef2d-7122-4be1-ef83-702cb785975e"
      },
      "execution_count": null,
      "outputs": [
        {
          "output_type": "stream",
          "name": "stdout",
          "text": [
            "Tuned Random Forest Training Score Accuracy 0.9458413926499033\n",
            "Tuned Random Forest Testing Score Accuracy 0.861271676300578\n"
          ]
        }
      ]
    },
    {
      "cell_type": "markdown",
      "source": [
        "PCA TUNED RANDOM FOREST MODEL"
      ],
      "metadata": {
        "id": "qknKFE7CiqN8"
      }
    },
    {
      "cell_type": "code",
      "source": [
        "# Make a PCA Tuned RF Pipeline\n",
        "\n",
        "pca_rfpipe = make_pipeline(pca_pipe, rf_gridsearch)"
      ],
      "metadata": {
        "id": "uHMCBP5EjSSE"
      },
      "execution_count": null,
      "outputs": []
    },
    {
      "cell_type": "code",
      "source": [
        "# Fit the new pipline\n",
        "\n",
        "pca_rfpipe.fit(X_train,y_train)"
      ],
      "metadata": {
        "colab": {
          "base_uri": "https://localhost:8080/"
        },
        "id": "9IHGm9xSjsSJ",
        "outputId": "3ea6e45f-a452-41d8-ea65-bfa0d2f0784a"
      },
      "execution_count": null,
      "outputs": [
        {
          "output_type": "execute_result",
          "data": {
            "text/plain": [
              "Pipeline(steps=[('pipeline',\n",
              "                 Pipeline(steps=[('columntransformer',\n",
              "                                  ColumnTransformer(transformers=[('pipeline-1',\n",
              "                                                                   Pipeline(steps=[('standardscaler',\n",
              "                                                                                    StandardScaler())]),\n",
              "                                                                   <sklearn.compose._column_transformer.make_column_selector object at 0x7efd4967cc50>),\n",
              "                                                                  ('pipeline-2',\n",
              "                                                                   Pipeline(steps=[('onehotencoder',\n",
              "                                                                                    OneHotEncoder(handle_unknown='ignore',\n",
              "                                                                                                  sparse=False))]),\n",
              "                                                                   <sklearn.compose._column_transformer.make_column_selector object at 0x7efd4967c910>)])),\n",
              "                                 ('pca', PCA(n_components=0.99))])),\n",
              "                ('gridsearchcv',\n",
              "                 GridSearchCV(estimator=RandomForestClassifier(),\n",
              "                              param_grid=[{'max_depth': range(15, 30),\n",
              "                                           'min_samples_leaf': [3, 15, 20]}]))])"
            ]
          },
          "metadata": {},
          "execution_count": 965
        }
      ]
    },
    {
      "cell_type": "code",
      "source": [
        "# Time the Prediction\n",
        " \n",
        "%%time\n",
        "pcarf_testpred = pca_rfpipe.predict(X_test)"
      ],
      "metadata": {
        "colab": {
          "base_uri": "https://localhost:8080/"
        },
        "id": "2n2O-v_XjsFH",
        "outputId": "3a5c60e8-d436-4309-e0de-42179939d60c"
      },
      "execution_count": null,
      "outputs": [
        {
          "output_type": "stream",
          "name": "stdout",
          "text": [
            "CPU times: user 28.2 ms, sys: 4.05 ms, total: 32.3 ms\n",
            "Wall time: 35.9 ms\n"
          ]
        }
      ]
    },
    {
      "cell_type": "code",
      "source": [
        "# Accuracy Score test\n",
        "\n",
        "train_pcarfscore = pca_rfpipe.score(X_train, y_train)\n",
        "test_pcarfscore = pca_rfpipe.score(X_test, y_test)\n",
        "\n",
        "print('PCA Tuned Random Forest Training Score Accuracy', train_pcarfscore)\n",
        "print('PCA Tuned Random Forest Testing Score Accuracy', test_pcarfscore) "
      ],
      "metadata": {
        "colab": {
          "base_uri": "https://localhost:8080/"
        },
        "id": "dlxha8q6jrrt",
        "outputId": "05fe10c2-d243-400d-a8f8-350154720a4f"
      },
      "execution_count": null,
      "outputs": [
        {
          "output_type": "stream",
          "name": "stdout",
          "text": [
            "PCA Tuned Random Forest Training Score Accuracy 0.9458413926499033\n",
            "PCA Tuned Random Forest Testing Score Accuracy 0.8034682080924855\n"
          ]
        }
      ]
    },
    {
      "cell_type": "markdown",
      "source": [
        "# K NEAREST NEIGHBORS MODEL"
      ],
      "metadata": {
        "id": "3mqIY9gOCkA-"
      }
    },
    {
      "cell_type": "markdown",
      "source": [
        "UNTUNED K NEAREST NEIGHBOR MODEL\n",
        "\n",
        "\n",
        "\n"
      ],
      "metadata": {
        "id": "aLwgmDPvlFHG"
      }
    },
    {
      "cell_type": "code",
      "source": [
        "# Define the KNN Model\n",
        "\n",
        "knn = KNeighborsClassifier()\n",
        "\n",
        "# Make Rf pipeline\n",
        "\n",
        "knn_pipe = make_pipeline(preprocessor, knn) "
      ],
      "metadata": {
        "id": "6jSgC6DxlzsX"
      },
      "execution_count": null,
      "outputs": []
    },
    {
      "cell_type": "code",
      "source": [
        " # Fit the model\n",
        "\n",
        "knn_pipe.fit(X_train, y_train)  "
      ],
      "metadata": {
        "colab": {
          "base_uri": "https://localhost:8080/"
        },
        "id": "n8jXWJ6clziv",
        "outputId": "42c55434-5d6f-46dd-a1bf-ebc1544f61b0"
      },
      "execution_count": null,
      "outputs": [
        {
          "output_type": "execute_result",
          "data": {
            "text/plain": [
              "Pipeline(steps=[('columntransformer',\n",
              "                 ColumnTransformer(transformers=[('pipeline-1',\n",
              "                                                  Pipeline(steps=[('standardscaler',\n",
              "                                                                   StandardScaler())]),\n",
              "                                                  <sklearn.compose._column_transformer.make_column_selector object at 0x7efd4967cc50>),\n",
              "                                                 ('pipeline-2',\n",
              "                                                  Pipeline(steps=[('onehotencoder',\n",
              "                                                                   OneHotEncoder(handle_unknown='ignore',\n",
              "                                                                                 sparse=False))]),\n",
              "                                                  <sklearn.compose._column_transformer.make_column_selector object at 0x7efd4967c910>)])),\n",
              "                ('kneighborsclassifier', KNeighborsClassifier())])"
            ]
          },
          "metadata": {},
          "execution_count": 969
        }
      ]
    },
    {
      "cell_type": "code",
      "source": [
        "# Make a prediction\n",
        "\n",
        "%%time\n",
        "knn_testpred = knn_pipe.predict(X_test)"
      ],
      "metadata": {
        "colab": {
          "base_uri": "https://localhost:8080/"
        },
        "id": "-hDZtoCrlzYK",
        "outputId": "4a44f6a9-edec-4569-d6fb-f4e0319705d6"
      },
      "execution_count": null,
      "outputs": [
        {
          "output_type": "stream",
          "name": "stdout",
          "text": [
            "CPU times: user 12.3 ms, sys: 4 µs, total: 12.3 ms\n",
            "Wall time: 12.5 ms\n"
          ]
        }
      ]
    },
    {
      "cell_type": "code",
      "source": [
        "# Accuracy Score test\n",
        "\n",
        "train_knnscore = knn_pipe.score(X_train, y_train)\n",
        "test_knnscore = knn_pipe.score(X_test, y_test)\n",
        "\n",
        "print('K Nearest Neighbor Score Accuracy', train_knnscore)\n",
        "print('K Nearest Neighbor Testing Score Accuracy', test_knnscore) "
      ],
      "metadata": {
        "colab": {
          "base_uri": "https://localhost:8080/"
        },
        "id": "2khg3aOplzKI",
        "outputId": "f10dab71-ba1c-405d-c9b6-fbb64cd674c3"
      },
      "execution_count": null,
      "outputs": [
        {
          "output_type": "stream",
          "name": "stdout",
          "text": [
            "K Nearest Neighbor Score Accuracy 0.8762088974854932\n",
            "K Nearest Neighbor Testing Score Accuracy 0.8265895953757225\n"
          ]
        }
      ]
    },
    {
      "cell_type": "markdown",
      "source": [
        "TUNED K NEAREST NEIGHBOR MODEL"
      ],
      "metadata": {
        "id": "FXyyhtbElYeY"
      }
    },
    {
      "cell_type": "code",
      "source": [
        "knn.get_params()"
      ],
      "metadata": {
        "colab": {
          "base_uri": "https://localhost:8080/"
        },
        "id": "l-BMusBxpKd-",
        "outputId": "069a2613-b3e3-4e00-fd4c-9e49096af004"
      },
      "execution_count": null,
      "outputs": [
        {
          "output_type": "execute_result",
          "data": {
            "text/plain": [
              "{'algorithm': 'auto',\n",
              " 'leaf_size': 30,\n",
              " 'metric': 'minkowski',\n",
              " 'metric_params': None,\n",
              " 'n_jobs': None,\n",
              " 'n_neighbors': 5,\n",
              " 'p': 2,\n",
              " 'weights': 'uniform'}"
            ]
          },
          "metadata": {},
          "execution_count": 972
        }
      ]
    },
    {
      "cell_type": "markdown",
      "source": [
        ""
      ],
      "metadata": {
        "id": "zNCW9zUYpJH3"
      }
    },
    {
      "cell_type": "code",
      "source": [
        "# Define the GridSearch Parameters\n",
        "\n",
        "param = [{'n_neighbors': range(1,25),\n",
        "          'p': range(1,5),\n",
        "         'weights': ['uniform','distance']}] \n",
        "         \n",
        "\n",
        "# Fit Parameters into the Logistical Regression Model  \n",
        "\n",
        "knn_gridsearch = GridSearchCV(knn, param_grid= param)\n",
        "\n",
        "# Make and fit a Tuned KNN pipeline\n",
        "\n",
        "tuned_knnpipe = make_pipeline(preprocessor, knn_gridsearch)"
      ],
      "metadata": {
        "id": "kNXj6qcVl0bz"
      },
      "execution_count": null,
      "outputs": []
    },
    {
      "cell_type": "code",
      "source": [
        "# Fit the tuned model\n",
        "\n",
        "tuned_knnpipe.fit(X_train, y_train) "
      ],
      "metadata": {
        "colab": {
          "base_uri": "https://localhost:8080/"
        },
        "id": "L8tTQGEDl0Xl",
        "outputId": "6eeb72c2-d3cc-4196-8c72-79738dd552d4"
      },
      "execution_count": null,
      "outputs": [
        {
          "output_type": "execute_result",
          "data": {
            "text/plain": [
              "Pipeline(steps=[('columntransformer',\n",
              "                 ColumnTransformer(transformers=[('pipeline-1',\n",
              "                                                  Pipeline(steps=[('standardscaler',\n",
              "                                                                   StandardScaler())]),\n",
              "                                                  <sklearn.compose._column_transformer.make_column_selector object at 0x7efd4967cc50>),\n",
              "                                                 ('pipeline-2',\n",
              "                                                  Pipeline(steps=[('onehotencoder',\n",
              "                                                                   OneHotEncoder(handle_unknown='ignore',\n",
              "                                                                                 sparse=False))]),\n",
              "                                                  <sklearn.compose._column_transformer.make_column_selector object at 0x7efd4967c910>)])),\n",
              "                ('gridsearchcv',\n",
              "                 GridSearchCV(estimator=KNeighborsClassifier(),\n",
              "                              param_grid=[{'n_neighbors': range(1, 25),\n",
              "                                           'p': range(1, 5),\n",
              "                                           'weights': ['uniform',\n",
              "                                                       'distance']}]))])"
            ]
          },
          "metadata": {},
          "execution_count": 975
        }
      ]
    },
    {
      "cell_type": "code",
      "source": [
        "# Time the Prediction\n",
        " \n",
        "%%time\n",
        "tunedknn_testpred = tuned_knnpipe.predict(X_test)"
      ],
      "metadata": {
        "id": "BoOxXnpEl0SW"
      },
      "execution_count": null,
      "outputs": []
    },
    {
      "cell_type": "code",
      "source": [
        "# Accuracy Score test\n",
        "\n",
        "train_tunedknnscore = tuned_knnpipe.score(X_train, y_train)\n",
        "test_tunedknnscore = tuned_knnpipe.score(X_test, y_test)\n",
        "\n",
        "print('K Nearest Neighbor Training Score Accuracy', train_tunedknnscore)\n",
        "print('K Nearest Neighbor Testing Score Accuracy', test_tunedknnscore)"
      ],
      "metadata": {
        "id": "HWOU3jL9l0Oz"
      },
      "execution_count": null,
      "outputs": []
    },
    {
      "cell_type": "markdown",
      "source": [
        "PCA TUNED K NEAREST NEIGHBOR MODEL"
      ],
      "metadata": {
        "id": "eQR93bZElk4U"
      }
    },
    {
      "cell_type": "code",
      "source": [
        "# Make a PCA Tuned RF Pipeline\n",
        "\n",
        "pca_knnpipe = make_pipeline(pca_pipe, knn_gridsearch)"
      ],
      "metadata": {
        "id": "zYvPKivZl2-U"
      },
      "execution_count": null,
      "outputs": []
    },
    {
      "cell_type": "code",
      "source": [
        "# Fit the new pipline\n",
        "\n",
        "pca_knnpipe.fit(X_train,y_train)"
      ],
      "metadata": {
        "id": "28ydg9Ijl27L"
      },
      "execution_count": null,
      "outputs": []
    },
    {
      "cell_type": "code",
      "source": [
        "# Time the Prediction\n",
        " \n",
        "%%time\n",
        "pcaknn_testpred = pca_knnpipe.predict(X_test)"
      ],
      "metadata": {
        "id": "u3qe_XRRl24V"
      },
      "execution_count": null,
      "outputs": []
    },
    {
      "cell_type": "code",
      "source": [
        "# Accuracy Score test\n",
        "\n",
        "train_pcaknnscore = pca_knnpipe.score(X_train, y_train)\n",
        "test_pcaknnscore = pca_knnpipe.score(X_test, y_test)\n",
        "\n",
        "print('PCA Tuned K Nearest Neighbor Training Score Accuracy', train_pcaknnscore)\n",
        "print('PCA Tuned K Nearest Neighbor Testing Score Accuracy', test_pcaknnscore) "
      ],
      "metadata": {
        "id": "A-hv7kgTl21Z"
      },
      "execution_count": null,
      "outputs": []
    },
    {
      "cell_type": "markdown",
      "source": [
        "# MODEL EVALUATION"
      ],
      "metadata": {
        "id": "F6knLcz39cl-"
      }
    },
    {
      "cell_type": "code",
      "source": [
        "# Print training and testing scores of each model\n",
        "\n",
        "print('Logistical Regression Training Score Accuracy', train_lrscore)\n",
        "print('Logistical Regression Testing Score Accuracy', test_lrscore, '\\n') \n",
        "\n",
        "print('Tuned Logistical Regression Training Score Accuracy', train_tunedlrscore)\n",
        "print('Tuned Logistical Regression Testing Score Accuracy', test_tunedlrscore, '\\n')\n",
        "\n",
        "print('PCA Tuned Logistical Regression Training Score Accuracy', train_pcalrscore)\n",
        "print('PCA Tuned Logistical Regression Testing Score Accuracy', test_pcalrscore, '\\n')\n",
        "\n",
        "print('Random Forest Training Score Accuracy', train_rfscore)\n",
        "print('Random Forest Testing Score Accuracy', test_rfscore,'\\n') \n",
        "\n",
        "print('Tuned Random Forest Training Score Accuracy', train_tunedrfscore)\n",
        "print('Tuned Random Forest Testing Score Accuracy', test_tunedrfscore, '\\n')\n",
        "\n",
        "print('PCA Tuned Random Forest Training Score Accuracy', train_pcarfscore)\n",
        "print('PCA Tuned Random Forest Testing Score Accuracy', test_pcarfscore, '\\n')\n",
        "\n",
        "print('K Nearest Neighbor Score Accuracy', train_knnscore)\n",
        "print('K Nearest Neighbor Testing Score Accuracy', test_knnscore, '\\n') \n",
        "\n",
        "print('K Nearest Neighbor Training Score Accuracy', train_tunedknnscore)\n",
        "print('K Nearest Neighbor Testing Score Accuracy', test_tunedknnscore, '\\n')\n",
        "\n",
        "print('PCA Tuned K Nearest Neighbor Training Score Accuracy', train_pcaknnscore)\n",
        "print('PCA Tuned K Nearest Neighbor Testing Score Accuracy', test_pcaknnscore) "
      ],
      "metadata": {
        "id": "XiJJXTKR9r5I"
      },
      "execution_count": null,
      "outputs": []
    },
    {
      "cell_type": "markdown",
      "source": [
        "From the scores above, the best model to use for predictions is the Tuned Random Forest. This model has high accuracy scores as well as minimum variance between the training and testing scores.\n",
        "\n",
        "Methods to further improve predictability include:\n",
        "\n",
        "1. Further tuning the hyperparameters\n",
        "2. Trying a different model\n",
        "3. Introducing more data\n",
        "4. Introducing new features that have a correlation with the Target.\n"
      ],
      "metadata": {
        "id": "UL56tkpp9iQX"
      }
    }
  ]
}